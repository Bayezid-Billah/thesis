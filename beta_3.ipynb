{
  "cells": [
    {
      "cell_type": "code",
      "execution_count": null,
      "metadata": {
        "colab": {
          "base_uri": "https://localhost:8080/"
        },
        "id": "ALU3002J3yc-",
        "outputId": "039c1210-5708-44c9-8355-33ef338f9546"
      },
      "outputs": [
        {
          "output_type": "stream",
          "name": "stdout",
          "text": [
            "Mounted at /content/drive\n"
          ]
        }
      ],
      "source": [
        "from google.colab import drive\n",
        "drive.mount('/content/drive')"
      ]
    },
    {
      "cell_type": "code",
      "execution_count": null,
      "metadata": {
        "id": "nZ048vDx4gCm"
      },
      "outputs": [],
      "source": [
        "import pandas as pd\n",
        "df = pd.read_csv('/content/drive/MyDrive/Thesis/Dev Phase/heart.csv')\n"
      ]
    },
    {
      "cell_type": "code",
      "execution_count": null,
      "metadata": {
        "colab": {
          "base_uri": "https://localhost:8080/"
        },
        "id": "tIVR_SsStrHU",
        "outputId": "e15bd122-8af6-4044-ce5f-a6e3462d18c6"
      },
      "outputs": [
        {
          "output_type": "stream",
          "name": "stdout",
          "text": [
            "0       False\n",
            "1       False\n",
            "2       False\n",
            "3       False\n",
            "4       False\n",
            "        ...  \n",
            "1020     True\n",
            "1021     True\n",
            "1022     True\n",
            "1023     True\n",
            "1024     True\n",
            "Length: 1025, dtype: bool\n"
          ]
        }
      ],
      "source": [
        "print(df.duplicated())"
      ]
    },
    {
      "cell_type": "code",
      "execution_count": null,
      "metadata": {
        "colab": {
          "base_uri": "https://localhost:8080/"
        },
        "id": "6-X935N_u8nq",
        "outputId": "3945963f-6d1a-492d-8221-7dd9543681e1"
      },
      "outputs": [
        {
          "output_type": "execute_result",
          "data": {
            "text/plain": [
              "723"
            ]
          },
          "metadata": {},
          "execution_count": 4
        }
      ],
      "source": [
        "df.duplicated().sum()"
      ]
    },
    {
      "cell_type": "code",
      "execution_count": null,
      "metadata": {
        "id": "FpeROwR5FFWe"
      },
      "outputs": [],
      "source": [
        "df = df.drop_duplicates()\n"
      ]
    },
    {
      "cell_type": "code",
      "execution_count": null,
      "metadata": {
        "colab": {
          "base_uri": "https://localhost:8080/"
        },
        "id": "-J87jIinvBYe",
        "outputId": "7c8eb4fa-dff4-4b1b-f507-e1288d4a52d2"
      },
      "outputs": [
        {
          "output_type": "execute_result",
          "data": {
            "text/plain": [
              "0"
            ]
          },
          "metadata": {},
          "execution_count": 6
        }
      ],
      "source": [
        "df.duplicated().sum()"
      ]
    },
    {
      "cell_type": "code",
      "execution_count": null,
      "metadata": {
        "colab": {
          "base_uri": "https://localhost:8080/"
        },
        "id": "w2-8gHPUHcDQ",
        "outputId": "a20aaf12-91eb-448b-fa55-abcbcc186fa4"
      },
      "outputs": [
        {
          "output_type": "stream",
          "name": "stdout",
          "text": [
            "<class 'pandas.core.frame.DataFrame'>\n",
            "Index: 302 entries, 0 to 878\n",
            "Data columns (total 14 columns):\n",
            " #   Column    Non-Null Count  Dtype  \n",
            "---  ------    --------------  -----  \n",
            " 0   age       302 non-null    int64  \n",
            " 1   sex       302 non-null    int64  \n",
            " 2   cp        302 non-null    int64  \n",
            " 3   trestbps  302 non-null    int64  \n",
            " 4   chol      302 non-null    int64  \n",
            " 5   fbs       302 non-null    int64  \n",
            " 6   restecg   302 non-null    int64  \n",
            " 7   thalach   302 non-null    int64  \n",
            " 8   exang     302 non-null    int64  \n",
            " 9   oldpeak   302 non-null    float64\n",
            " 10  slope     302 non-null    int64  \n",
            " 11  ca        302 non-null    int64  \n",
            " 12  thal      302 non-null    int64  \n",
            " 13  target    302 non-null    int64  \n",
            "dtypes: float64(1), int64(13)\n",
            "memory usage: 35.4 KB\n",
            "None\n"
          ]
        }
      ],
      "source": [
        "print(df.info())"
      ]
    },
    {
      "cell_type": "code",
      "execution_count": null,
      "metadata": {
        "colab": {
          "base_uri": "https://localhost:8080/"
        },
        "id": "U5i4gCXO5cM3",
        "outputId": "06b6c901-0f5e-4785-bb1c-2193a3028302"
      },
      "outputs": [
        {
          "output_type": "stream",
          "name": "stdout",
          "text": [
            "     age  sex  cp  trestbps  chol  fbs  restecg  thalach  exang  oldpeak  \\\n",
            "0     52    1   0       125   212    0        1      168      0      1.0   \n",
            "1     53    1   0       140   203    1        0      155      1      3.1   \n",
            "2     70    1   0       145   174    0        1      125      1      2.6   \n",
            "3     61    1   0       148   203    0        1      161      0      0.0   \n",
            "4     62    0   0       138   294    1        1      106      0      1.9   \n",
            "..   ...  ...  ..       ...   ...  ...      ...      ...    ...      ...   \n",
            "723   68    0   2       120   211    0        0      115      0      1.5   \n",
            "733   44    0   2       108   141    0        1      175      0      0.6   \n",
            "739   52    1   0       128   255    0        1      161      1      0.0   \n",
            "843   59    1   3       160   273    0        0      125      0      0.0   \n",
            "878   54    1   0       120   188    0        1      113      0      1.4   \n",
            "\n",
            "     slope  ca  thal  target  \n",
            "0        2   2     3       0  \n",
            "1        0   0     3       0  \n",
            "2        0   0     3       0  \n",
            "3        2   1     3       0  \n",
            "4        1   3     2       0  \n",
            "..     ...  ..   ...     ...  \n",
            "723      1   0     2       1  \n",
            "733      1   0     2       1  \n",
            "739      2   1     3       0  \n",
            "843      2   0     2       0  \n",
            "878      1   1     3       0  \n",
            "\n",
            "[302 rows x 14 columns]\n"
          ]
        }
      ],
      "source": [
        "print(df)"
      ]
    },
    {
      "cell_type": "code",
      "execution_count": null,
      "metadata": {
        "colab": {
          "base_uri": "https://localhost:8080/"
        },
        "id": "xpESZst55lCN",
        "outputId": "3d71981a-86bb-42dd-e50a-6e3967f7feab"
      },
      "outputs": [
        {
          "output_type": "stream",
          "name": "stdout",
          "text": [
            "   age  sex  cp  trestbps  chol  fbs  restecg  thalach  exang  oldpeak  slope  \\\n",
            "0   52    1   0       125   212    0        1      168      0      1.0      2   \n",
            "1   53    1   0       140   203    1        0      155      1      3.1      0   \n",
            "2   70    1   0       145   174    0        1      125      1      2.6      0   \n",
            "3   61    1   0       148   203    0        1      161      0      0.0      2   \n",
            "4   62    0   0       138   294    1        1      106      0      1.9      1   \n",
            "\n",
            "   ca  thal  target  \n",
            "0   2     3       0  \n",
            "1   0     3       0  \n",
            "2   0     3       0  \n",
            "3   1     3       0  \n",
            "4   3     2       0  \n",
            "     age  sex  cp  trestbps  chol  fbs  restecg  thalach  exang  oldpeak  \\\n",
            "723   68    0   2       120   211    0        0      115      0      1.5   \n",
            "733   44    0   2       108   141    0        1      175      0      0.6   \n",
            "739   52    1   0       128   255    0        1      161      1      0.0   \n",
            "843   59    1   3       160   273    0        0      125      0      0.0   \n",
            "878   54    1   0       120   188    0        1      113      0      1.4   \n",
            "\n",
            "     slope  ca  thal  target  \n",
            "723      1   0     2       1  \n",
            "733      1   0     2       1  \n",
            "739      2   1     3       0  \n",
            "843      2   0     2       0  \n",
            "878      1   1     3       0  \n"
          ]
        }
      ],
      "source": [
        "# View the first 5 rows\n",
        "print(df.head())\n",
        "\n",
        "# View the last 5 rows\n",
        "print(df.tail())\n"
      ]
    },
    {
      "cell_type": "code",
      "execution_count": null,
      "metadata": {
        "colab": {
          "base_uri": "https://localhost:8080/"
        },
        "id": "zhh2iwAU5ucR",
        "outputId": "9b0637e2-8bf7-49a1-ab19-22b5c21e9c13"
      },
      "outputs": [
        {
          "output_type": "stream",
          "name": "stdout",
          "text": [
            "             age         sex          cp    trestbps        chol         fbs  \\\n",
            "count  302.00000  302.000000  302.000000  302.000000  302.000000  302.000000   \n",
            "mean    54.42053    0.682119    0.963576  131.602649  246.500000    0.149007   \n",
            "std      9.04797    0.466426    1.032044   17.563394   51.753489    0.356686   \n",
            "min     29.00000    0.000000    0.000000   94.000000  126.000000    0.000000   \n",
            "25%     48.00000    0.000000    0.000000  120.000000  211.000000    0.000000   \n",
            "50%     55.50000    1.000000    1.000000  130.000000  240.500000    0.000000   \n",
            "75%     61.00000    1.000000    2.000000  140.000000  274.750000    0.000000   \n",
            "max     77.00000    1.000000    3.000000  200.000000  564.000000    1.000000   \n",
            "\n",
            "          restecg     thalach       exang     oldpeak       slope          ca  \\\n",
            "count  302.000000  302.000000  302.000000  302.000000  302.000000  302.000000   \n",
            "mean     0.526490  149.569536    0.327815    1.043046    1.397351    0.718543   \n",
            "std      0.526027   22.903527    0.470196    1.161452    0.616274    1.006748   \n",
            "min      0.000000   71.000000    0.000000    0.000000    0.000000    0.000000   \n",
            "25%      0.000000  133.250000    0.000000    0.000000    1.000000    0.000000   \n",
            "50%      1.000000  152.500000    0.000000    0.800000    1.000000    0.000000   \n",
            "75%      1.000000  166.000000    1.000000    1.600000    2.000000    1.000000   \n",
            "max      2.000000  202.000000    1.000000    6.200000    2.000000    4.000000   \n",
            "\n",
            "             thal      target  \n",
            "count  302.000000  302.000000  \n",
            "mean     2.314570    0.543046  \n",
            "std      0.613026    0.498970  \n",
            "min      0.000000    0.000000  \n",
            "25%      2.000000    0.000000  \n",
            "50%      2.000000    1.000000  \n",
            "75%      3.000000    1.000000  \n",
            "max      3.000000    1.000000  \n"
          ]
        }
      ],
      "source": [
        "print(df.describe())\n",
        "\n"
      ]
    },
    {
      "cell_type": "code",
      "execution_count": null,
      "metadata": {
        "colab": {
          "base_uri": "https://localhost:8080/"
        },
        "id": "Fq_m9vPI5zcS",
        "outputId": "84566e5f-39bc-43c9-878b-a0e8cf89cc1c"
      },
      "outputs": [
        {
          "output_type": "stream",
          "name": "stdout",
          "text": [
            "Index(['age', 'sex', 'cp', 'trestbps', 'chol', 'fbs', 'restecg', 'thalach',\n",
            "       'exang', 'oldpeak', 'slope', 'ca', 'thal', 'target'],\n",
            "      dtype='object')\n"
          ]
        }
      ],
      "source": [
        "print(df.columns)\n"
      ]
    },
    {
      "cell_type": "code",
      "execution_count": null,
      "metadata": {
        "colab": {
          "base_uri": "https://localhost:8080/"
        },
        "id": "0aBC-mQh54i1",
        "outputId": "af21d5bf-9c5e-4e18-a8a8-b7e164158733"
      },
      "outputs": [
        {
          "output_type": "stream",
          "name": "stdout",
          "text": [
            "Missing values count per column:\n",
            "age         0\n",
            "sex         0\n",
            "cp          0\n",
            "trestbps    0\n",
            "chol        0\n",
            "fbs         0\n",
            "restecg     0\n",
            "thalach     0\n",
            "exang       0\n",
            "oldpeak     0\n",
            "slope       0\n",
            "ca          0\n",
            "thal        0\n",
            "target      0\n",
            "dtype: int64\n"
          ]
        }
      ],
      "source": [
        "# Check for missing values in the DataFrame\n",
        "missing_values = df.isnull()\n",
        "\n",
        "# Count the number of missing values in each column\n",
        "missing_values_count = missing_values.sum()\n",
        "\n",
        "# Print the number of missing values in each column\n",
        "print(\"Missing values count per column:\")\n",
        "print(missing_values_count)\n"
      ]
    },
    {
      "cell_type": "code",
      "execution_count": null,
      "metadata": {
        "id": "MYhVJI5Xvj0V"
      },
      "outputs": [],
      "source": [
        "\n",
        "import numpy as np\n",
        "from scipy import stats\n",
        "\n",
        "df = df[(np.abs(stats.zscore(df)) < 3).all(axis=1)]\n"
      ]
    },
    {
      "cell_type": "code",
      "execution_count": null,
      "metadata": {
        "colab": {
          "base_uri": "https://localhost:8080/"
        },
        "id": "EhfLf8IjvsFR",
        "outputId": "82e3f1b1-a034-4442-c134-6cf3f765b54a"
      },
      "outputs": [
        {
          "output_type": "stream",
          "name": "stdout",
          "text": [
            "     age  sex  cp  trestbps  chol  fbs  restecg  thalach  exang  oldpeak  \\\n",
            "0     52    1   0       125   212    0        1      168      0      1.0   \n",
            "1     53    1   0       140   203    1        0      155      1      3.1   \n",
            "2     70    1   0       145   174    0        1      125      1      2.6   \n",
            "3     61    1   0       148   203    0        1      161      0      0.0   \n",
            "4     62    0   0       138   294    1        1      106      0      1.9   \n",
            "..   ...  ...  ..       ...   ...  ...      ...      ...    ...      ...   \n",
            "723   68    0   2       120   211    0        0      115      0      1.5   \n",
            "733   44    0   2       108   141    0        1      175      0      0.6   \n",
            "739   52    1   0       128   255    0        1      161      1      0.0   \n",
            "843   59    1   3       160   273    0        0      125      0      0.0   \n",
            "878   54    1   0       120   188    0        1      113      0      1.4   \n",
            "\n",
            "     slope  ca  thal  target  \n",
            "0        2   2     3       0  \n",
            "1        0   0     3       0  \n",
            "2        0   0     3       0  \n",
            "3        2   1     3       0  \n",
            "4        1   3     2       0  \n",
            "..     ...  ..   ...     ...  \n",
            "723      1   0     2       1  \n",
            "733      1   0     2       1  \n",
            "739      2   1     3       0  \n",
            "843      2   0     2       0  \n",
            "878      1   1     3       0  \n",
            "\n",
            "[287 rows x 14 columns]\n"
          ]
        }
      ],
      "source": [
        "print(df)"
      ]
    },
    {
      "cell_type": "code",
      "execution_count": null,
      "metadata": {
        "colab": {
          "base_uri": "https://localhost:8080/"
        },
        "id": "FJk3TdmvwX5A",
        "outputId": "ff198b22-66e6-42e7-bacd-e39dea211108"
      },
      "outputs": [
        {
          "output_type": "stream",
          "name": "stdout",
          "text": [
            "Missing values count per column:\n",
            "age         0\n",
            "sex         0\n",
            "cp          0\n",
            "trestbps    0\n",
            "chol        0\n",
            "fbs         0\n",
            "restecg     0\n",
            "thalach     0\n",
            "exang       0\n",
            "oldpeak     0\n",
            "slope       0\n",
            "ca          0\n",
            "thal        0\n",
            "target      0\n",
            "dtype: int64\n"
          ]
        }
      ],
      "source": [
        "# Check for missing values in the DataFrame\n",
        "missing_values = df.isnull()\n",
        "\n",
        "# Count the number of missing values in each column\n",
        "missing_values_count = missing_values.sum()\n",
        "\n",
        "# Print the number of missing values in each column\n",
        "print(\"Missing values count per column:\")\n",
        "print(missing_values_count)\n"
      ]
    },
    {
      "cell_type": "code",
      "execution_count": null,
      "metadata": {
        "colab": {
          "base_uri": "https://localhost:8080/"
        },
        "id": "qERwwPdkzmD5",
        "outputId": "506ddd79-19a9-425a-ca00-0dc3bd562266"
      },
      "outputs": [
        {
          "output_type": "stream",
          "name": "stdout",
          "text": [
            "Feature-Target Correlations:\n",
            "age        -0.226750\n",
            "sex        -0.302926\n",
            "cp          0.408570\n",
            "trestbps   -0.119281\n",
            "chol       -0.099821\n",
            "fbs        -0.011438\n",
            "restecg     0.130079\n",
            "thalach     0.431519\n",
            "exang      -0.429082\n",
            "oldpeak    -0.424443\n",
            "slope       0.323948\n",
            "ca         -0.463258\n",
            "thal       -0.354579\n",
            "dtype: float64\n"
          ]
        }
      ],
      "source": [
        "# Compute correlation between features and the target ('target' column)\n",
        "feature_target_corr = df.drop(\"target\", axis=1).corrwith(df['target'])\n",
        "\n",
        "# Display the correlation coefficients\n",
        "print(\"Feature-Target Correlations:\")\n",
        "print(feature_target_corr)"
      ]
    },
    {
      "cell_type": "code",
      "execution_count": null,
      "metadata": {
        "colab": {
          "base_uri": "https://localhost:8080/"
        },
        "id": "09f3mpY25NOX",
        "outputId": "7a57d79f-00c9-4b7f-9fcb-e91c83ae7dbe"
      },
      "outputs": [
        {
          "output_type": "stream",
          "name": "stdout",
          "text": [
            "     age  sex  cp  trestbps  chol  fbs  restecg  thalach  exang  oldpeak  \\\n",
            "0     52    1   0       125   212    0        1      168      0      1.0   \n",
            "1     53    1   0       140   203    1        0      155      1      3.1   \n",
            "2     70    1   0       145   174    0        1      125      1      2.6   \n",
            "3     61    1   0       148   203    0        1      161      0      0.0   \n",
            "4     62    0   0       138   294    1        1      106      0      1.9   \n",
            "..   ...  ...  ..       ...   ...  ...      ...      ...    ...      ...   \n",
            "723   68    0   2       120   211    0        0      115      0      1.5   \n",
            "733   44    0   2       108   141    0        1      175      0      0.6   \n",
            "739   52    1   0       128   255    0        1      161      1      0.0   \n",
            "843   59    1   3       160   273    0        0      125      0      0.0   \n",
            "878   54    1   0       120   188    0        1      113      0      1.4   \n",
            "\n",
            "     slope  ca  thal  target  \n",
            "0        2   2     3       0  \n",
            "1        0   0     3       0  \n",
            "2        0   0     3       0  \n",
            "3        2   1     3       0  \n",
            "4        1   3     2       0  \n",
            "..     ...  ..   ...     ...  \n",
            "723      1   0     2       1  \n",
            "733      1   0     2       1  \n",
            "739      2   1     3       0  \n",
            "843      2   0     2       0  \n",
            "878      1   1     3       0  \n",
            "\n",
            "[287 rows x 14 columns]\n"
          ]
        }
      ],
      "source": [
        "cnst_df = df\n",
        "print(cnst_df)"
      ]
    },
    {
      "cell_type": "code",
      "execution_count": null,
      "metadata": {
        "id": "aZgdR-O30wF8"
      },
      "outputs": [],
      "source": [
        "# @title **KNN**\n",
        "import numpy as np\n",
        "from sklearn.neighbors import KNeighborsClassifier\n",
        "from sklearn.metrics import accuracy_score, classification_report, confusion_matrix\n",
        "\n",
        "import pandas as pd\n",
        "from sklearn.model_selection import train_test_split, cross_val_score\n",
        "\n",
        "def func_KNN(data):\n",
        "    # Separate features (X) and target (y)\n",
        "    X = data.drop(columns=[\"target\"])  # Features\n",
        "    y = data[\"target\"]  # Target variable\n",
        "\n",
        "    # Split the data into training (80%) and testing (20%) sets\n",
        "    X_train, X_test, y_train, y_test = train_test_split(X, y, test_size=0.2, random_state=42)\n",
        "\n",
        "    # Now you have X_train, X_test, y_train, and y_test ready for model training\n",
        "\n",
        "    # Initialize the KNN classifier\n",
        "    knn = KNeighborsClassifier(n_neighbors=3)  # Set the value of k\n",
        "\n",
        "    # Train the model\n",
        "    knn.fit(X_train, y_train)\n",
        "\n",
        "    # Make predictions\n",
        "    y_pred = knn.predict(X_test)\n",
        "\n",
        "    # Evaluate the model\n",
        "    accuracy = accuracy_score(y_test, y_pred)\n",
        "    report = classification_report(y_test, y_pred)\n",
        "    print(\"KNN\")\n",
        "    print(f\"Accuracy: {accuracy:.2f}\")\n",
        "    print(\"Classification Report:\\n\", report)\n",
        "\n",
        "    # Confusion matrix\n",
        "    conf_matrix = confusion_matrix(y_test, y_pred)\n",
        "    print(\"Confusion Matrix:\")\n",
        "    print(conf_matrix)\n",
        "\n",
        "    # Perform cross-validation to check for overfitting\n",
        "    cv_scores = cross_val_score(knn, X, y, cv=5, scoring=\"accuracy\")\n",
        "\n",
        "    print(\"Cross-validation scores:\", cv_scores)\n",
        "    print(\"Mean cross-validation score:\", cv_scores.mean())"
      ]
    },
    {
      "cell_type": "code",
      "execution_count": null,
      "metadata": {
        "id": "7BG8XCP31zgN"
      },
      "outputs": [],
      "source": [
        "# @title **SVM**\n",
        "from sklearn import svm\n",
        "from sklearn.metrics import accuracy_score, precision_score, recall_score, f1_score, classification_report, confusion_matrix\n",
        "\n",
        "import pandas as pd\n",
        "from sklearn.model_selection import train_test_split, cross_val_score\n",
        "\n",
        "def func_SVM(data):\n",
        "\n",
        "    # Separate features (X) and target (y)\n",
        "    X = data.drop(columns=[\"target\"])  # Features\n",
        "    y = data[\"target\"]  # Target variable\n",
        "\n",
        "    # Split the data into training (80%) and testing (20%) sets\n",
        "    X_train, X_test, y_train, y_test = train_test_split(X, y, test_size=0.2, random_state=42)\n",
        "\n",
        "    # Now you have X_train, X_test, y_train, and y_test ready for model training\n",
        "\n",
        "    # Initialize the SVM classifier\n",
        "    clf = svm.SVC(kernel=\"linear\")  # You can choose different kernels (linear, polynomial, RBF, etc.)\n",
        "\n",
        "    # Train the model\n",
        "    clf.fit(X_train, y_train)\n",
        "\n",
        "    # Make predictions\n",
        "    y_pred = clf.predict(X_test)\n",
        "\n",
        "    # Evaluate the model (e.g., accuracy, precision, recall, etc.)\n",
        "    # You can use metrics from Scikit-Learn or custom ones.\n",
        "    accuracy = accuracy_score(y_test, y_pred)\n",
        "    print(\"SVM\")\n",
        "    print(f\"Accuracy: {accuracy:.2f}\")\n",
        "\n",
        "    # Classification report\n",
        "    print(\"Classification Report:\")\n",
        "    print(classification_report(y_test, y_pred))\n",
        "\n",
        "    # Confusion matrix\n",
        "    conf_matrix = confusion_matrix(y_test, y_pred)\n",
        "    print(\"Confusion Matrix:\")\n",
        "    print(conf_matrix)\n",
        "\n",
        "    # Perform cross-validation to check for overfitting\n",
        "    cv_scores = cross_val_score(clf, X, y, cv=5, scoring=\"accuracy\")\n",
        "\n",
        "    print(\"Cross-validation scores:\", cv_scores)\n",
        "    print(\"Mean cross-validation score:\", cv_scores.mean())\n"
      ]
    },
    {
      "cell_type": "code",
      "execution_count": null,
      "metadata": {
        "id": "PGKECvfs3slJ"
      },
      "outputs": [],
      "source": [
        "# @title **Random Forest**\n",
        "from sklearn.ensemble import RandomForestClassifier\n",
        "\n",
        "def func_Random_Forest(data):\n",
        "    # @title **Random Forest**\n",
        "\n",
        "    # Separate features (X) and target (y)\n",
        "    X = data.drop(columns=[\"target\"])  # Features\n",
        "    y = data[\"target\"]  # Target variable\n",
        "\n",
        "    # Split the data into training (80%) and testing (20%) sets\n",
        "    X_train, X_test, y_train, y_test = train_test_split(X, y, test_size=0.2, random_state=42)\n",
        "\n",
        "    rf_classifier = RandomForestClassifier(n_estimators=100, random_state=42)\n",
        "\n",
        "    # Train the classifier on the training data\n",
        "    rf_classifier.fit(X_train, y_train)\n",
        "\n",
        "    # Make predictions on the testing data\n",
        "    y_pred = rf_classifier.predict(X_test)\n",
        "\n",
        "    # Calculate the accuracy of the model\n",
        "\n",
        "    accuracy = accuracy_score(y_test, y_pred)\n",
        "    print(\"Random Forest\")\n",
        "    print(f\"Accuracy: {accuracy:.2f}\")\n",
        "\n",
        "    # Classification report\n",
        "    print(\"Classification Report:\")\n",
        "    print(classification_report(y_test, y_pred))\n",
        "\n",
        "    # Confusion matrix\n",
        "    conf_matrix = confusion_matrix(y_test, y_pred)\n",
        "    print(\"Confusion Matrix:\")\n",
        "    print(conf_matrix)\n",
        "\n",
        "    # Perform cross-validation to check for overfitting\n",
        "    cv_scores = cross_val_score(rf_classifier, X, y, cv=5, scoring=\"accuracy\")\n",
        "\n",
        "    print(\"Cross-validation scores:\", cv_scores)\n",
        "    print(\"Mean cross-validation score:\", cv_scores.mean())"
      ]
    },
    {
      "cell_type": "code",
      "execution_count": null,
      "metadata": {
        "id": "9m8i-C7p5Hlz"
      },
      "outputs": [],
      "source": [
        "# @title **Decision Tree**\n",
        "from sklearn.tree import DecisionTreeClassifier\n",
        "\n",
        "def func_Decision_Tree(data):\n",
        "    # @title **Decision Tree**\n",
        "\n",
        "    # Separate features (X) and target (y)\n",
        "    X = data.drop(columns=[\"target\"])  # Features\n",
        "    y = data[\"target\"]  # Target variable\n",
        "\n",
        "    # Split the data into training (80%) and testing (20%) sets\n",
        "    X_train, X_test, y_train, y_test = train_test_split(X, y, test_size=0.2, random_state=42)\n",
        "\n",
        "    # Create a decision tree classifier\n",
        "    dtc = DecisionTreeClassifier()\n",
        "\n",
        "    # Train the classifier on the training data\n",
        "    dtc.fit(X_train, y_train)\n",
        "    # Make predictions on the testing data\n",
        "    y_pred = dtc.predict(X_test)\n",
        "\n",
        "    # Calculate the accuracy of the model\n",
        "\n",
        "    accuracy = accuracy_score(y_test, y_pred)\n",
        "    print(\"Decision Tree\")\n",
        "    print(f\"Accuracy: {accuracy:.2f}\")\n",
        "\n",
        "    # Classification report\n",
        "    print(\"Classification Report:\")\n",
        "    print(classification_report(y_test, y_pred))\n",
        "\n",
        "    # Confusion matrix\n",
        "    conf_matrix = confusion_matrix(y_test, y_pred)\n",
        "    print(\"Confusion Matrix:\")\n",
        "    print(conf_matrix)\n",
        "\n",
        "    # Perform cross-validation to check for overfitting\n",
        "    cv_scores = cross_val_score(dtc, X, y, cv=5, scoring=\"accuracy\")\n",
        "\n",
        "    print(\"Cross-validation scores:\", cv_scores)\n",
        "    print(\"Mean cross-validation score:\", cv_scores.mean())"
      ]
    },
    {
      "cell_type": "code",
      "execution_count": null,
      "metadata": {
        "id": "Gfo_6phg6Hs5"
      },
      "outputs": [],
      "source": [
        "# @title **Linear Regression**\n",
        "from sklearn.linear_model import LinearRegression\n",
        "from sklearn.metrics import mean_squared_error, mean_absolute_error, r2_score\n",
        "\n",
        "def func_Linear_Regression(data):\n",
        "\n",
        "    # Separate features (X) and target (y)\n",
        "    X = data.drop(columns=[\"target\"])  # Features\n",
        "    y = data[\"target\"]  # Target variable\n",
        "\n",
        "    # Split the data into training (80%) and testing (20%) sets\n",
        "    X_train, X_test, y_train, y_test = train_test_split(X, y, test_size=0.2, random_state=42)\n",
        "\n",
        "    # Create a Linear Regression model\n",
        "    lr = LinearRegression()\n",
        "\n",
        "    # Train the model on the training data\n",
        "    lr.fit(X_train, y_train)\n",
        "\n",
        "    # Make predictions on the testing data\n",
        "    y_pred = lr.predict(X_test)\n",
        "\n",
        "    # Calculate performance metrics\n",
        "    mse = mean_squared_error(y_test, y_pred)\n",
        "    rmse = mean_squared_error(\n",
        "        y_test, y_pred, squared=False\n",
        "    )  # Squared=False to get RMSE\n",
        "    mae = mean_absolute_error(y_test, y_pred)\n",
        "    r2 = r2_score(y_test, y_pred)\n",
        "\n",
        "    # Print the metrics\n",
        "    print(\"Linear Regression\")\n",
        "    print(\"Mean Squared Error (MSE):\", mse)\n",
        "    print(\"Root Mean Squared Error (RMSE):\", rmse)\n",
        "    print(\"Mean Absolute Error (MAE):\", mae)\n",
        "    print(\"R-squared (R2):\", r2)\n",
        "\n",
        "    # Perform cross-validation to check for overfitting\n",
        "    cv_scores = cross_val_score(lr, X, y, cv=5, scoring=\"neg_mean_squared_error\")\n",
        "\n",
        "    print(\"Cross-validation scores:\", cv_scores)\n",
        "    print(\"Mean cross-validation score:\", cv_scores.mean())"
      ]
    },
    {
      "cell_type": "code",
      "execution_count": null,
      "metadata": {
        "id": "OvSg1nC2946v"
      },
      "outputs": [],
      "source": [
        "# @title **Logistic Regression**\n",
        "from sklearn.linear_model import LogisticRegression\n",
        "from sklearn.metrics import mean_squared_error, mean_absolute_error, r2_score\n",
        "def func_Logistic_Regression(data):\n",
        "\n",
        "    # Separate features (X) and target (y)\n",
        "    X = data.drop(columns=[\"target\"])  # Features\n",
        "    y = data[\"target\"]  # Target variable\n",
        "\n",
        "    # Split the data into training (80%) and testing (20%) sets\n",
        "    X_train, X_test, y_train, y_test = train_test_split(X, y, test_size=0.2, random_state=42)\n",
        "\n",
        "    # Create a Logitstic Regression model\n",
        "    lgr = LogisticRegression(max_iter=901)\n",
        "\n",
        "    # Train the model on the training data\n",
        "    lgr.fit(X_train, y_train)\n",
        "\n",
        "    # Make predictions on the testing data\n",
        "    y_pred = lgr.predict(X_test)\n",
        "\n",
        "    # Calculate performance metrics\n",
        "    mse = mean_squared_error(y_test, y_pred)\n",
        "    rmse = mean_squared_error(\n",
        "        y_test, y_pred, squared=False\n",
        "    )  # Squared=False to get RMSE\n",
        "    mae = mean_absolute_error(y_test, y_pred)\n",
        "    r2 = r2_score(y_test, y_pred)\n",
        "\n",
        "    # Print the metrics\n",
        "    print(\"Logistic Regression\")\n",
        "    print(\"Mean Squared Error (MSE):\", mse)\n",
        "    print(\"Root Mean Squared Error (RMSE):\", rmse)\n",
        "    print(\"Mean Absolute Error (MAE):\", mae)\n",
        "    print(\"R-squared (R2):\", r2)\n",
        "\n",
        "    # Perform cross-validation to check for overfitting\n",
        "    cv_scores = cross_val_score(lgr, X, y, cv=5, scoring=\"accuracy\")\n",
        "\n",
        "    print(\"Cross-validation scores:\", cv_scores)\n",
        "    print(\"Mean cross-validation score:\", cv_scores.mean())"
      ]
    },
    {
      "cell_type": "code",
      "execution_count": null,
      "metadata": {
        "id": "afX7CbaNAmdW"
      },
      "outputs": [],
      "source": [
        "# @title **XGBoost**\n",
        "import xgboost as xgb\n",
        "import pandas as pd\n",
        "from sklearn.model_selection import train_test_split, cross_val_score\n",
        "from sklearn.metrics import accuracy_score, classification_report\n",
        "from xgboost import XGBClassifier\n",
        "\n",
        "def func_XGBoost(data):\n",
        "\n",
        "\n",
        "    # Assuming 'df' is your DataFrame containing the dataset\n",
        "\n",
        "    # Separate features (X) and target (y)\n",
        "    X = data.drop(columns=['target'])  # Features\n",
        "    y = data['target']  # Target variable\n",
        "\n",
        "    # Split the data into training (80%) and testing (20%) sets\n",
        "    X_train, X_test, y_train, y_test = train_test_split(X, y, test_size=0.2, random_state=42)\n",
        "\n",
        "    # Create an XGBoost classifier\n",
        "    xgb_classifier = XGBClassifier(objective='binary:logistic', seed=42)\n",
        "\n",
        "    # Training the XGBoost model\n",
        "    xgb_classifier.fit(X_train, y_train)\n",
        "\n",
        "    # Make predictions on the test set\n",
        "    y_pred = xgb_classifier.predict(X_test)\n",
        "\n",
        "    # Calculate accuracy\n",
        "    accuracy = accuracy_score(y_test, y_pred)\n",
        "    print(\"XGBoost\")\n",
        "    print(\"Accuracy:\", accuracy)\n",
        "\n",
        "    # Print classification report\n",
        "    print(\"Classification Report:\")\n",
        "    print(classification_report(y_test, y_pred))\n",
        "\n",
        "    # Perform cross-validation to check for overfitting\n",
        "    cv_scores = cross_val_score(xgb_classifier, X, y, cv=5, scoring='accuracy')\n",
        "    print(\"Cross-validation scores:\", cv_scores)\n",
        "    print(\"Mean cross-validation score:\", cv_scores.mean())"
      ]
    },
    {
      "cell_type": "code",
      "source": [
        "# @title **FNN**\n",
        "import tensorflow as tf\n",
        "from sklearn.preprocessing import StandardScaler\n",
        "from sklearn.model_selection import train_test_split\n",
        "from sklearn.preprocessing import OneHotEncoder\n",
        "import tensorflow as tf\n",
        "from tensorflow.keras.models import Sequential\n",
        "from tensorflow.keras.layers import Dense, Dropout\n",
        "from tensorflow.keras.regularizers import l2\n",
        "from tensorflow.keras.callbacks import EarlyStopping\n",
        "from sklearn.metrics import accuracy_score\n",
        "import matplotlib.pyplot as plt\n",
        "\n",
        "def func_FNN(data):\n",
        "\n",
        "\n",
        "\n",
        "\n",
        "    # Assuming 'data' is your DataFrame containing the dataset\n",
        "\n",
        "    # Separate features (X) and target (y)\n",
        "    X = data.drop(columns=['target'])  # Features\n",
        "    y = data['target']  # Target variable\n",
        "\n",
        "    # Standardize the features\n",
        "    scaler = StandardScaler()\n",
        "    X_scaled = scaler.fit_transform(X)\n",
        "\n",
        "    # Split the data into training (80%) and testing (20%) sets\n",
        "    X_train, X_test, y_train, y_test = train_test_split(X_scaled, y, test_size=0.2, random_state=42)\n",
        "\n",
        "    # Define the FNN architecture\n",
        "    model = Sequential([\n",
        "        Dense(32, activation='relu', input_shape=(X_train.shape[1],), kernel_regularizer=l2(0.01)),\n",
        "        Dropout(0.5),\n",
        "        Dense(16, activation='relu', kernel_regularizer=l2(0.01)),\n",
        "        Dropout(0.5),\n",
        "        Dense(8, activation='relu', kernel_regularizer=l2(0.01)),\n",
        "        Dense(1, activation='sigmoid')\n",
        "    ])\n",
        "\n",
        "    # Compile the model\n",
        "    model.compile(optimizer='adam', loss='binary_crossentropy', metrics=['accuracy'])\n",
        "\n",
        "    # Define early stopping to prevent overfitting\n",
        "    early_stopping = EarlyStopping(monitor='val_loss', patience=10, restore_best_weights=True)\n",
        "\n",
        "    # Train the model\n",
        "    history = model.fit(X_train, y_train, epochs=100, batch_size=16, validation_data=(X_test, y_test), callbacks=[early_stopping])\n",
        "\n",
        "    # Evaluate the model on the test set\n",
        "    y_pred = (model.predict(X_test) > 0.5).astype(int)\n",
        "    accuracy = accuracy_score(y_test, y_pred)\n",
        "    print(\"Test Accuracy:\", accuracy)\n",
        "\n",
        "    # Extract accuracy from history ob;ject\n",
        "    train_accuracy = history.history['accuracy']\n",
        "    val_accuracy = history.history['val_accuracy']\n",
        "\n",
        "    # Plotting the graph\n",
        "    plt.figure(figsize=(10, 6))\n",
        "    plt.plot(train_accuracy, label='Train Accuracy')\n",
        "    plt.plot(val_accuracy, label='Validation Accuracy')\n",
        "    plt.xlabel('Epochs')\n",
        "    plt.ylabel('Accuracy')\n",
        "    plt.title('Train Accuracy vs Validation Accuracy')\n",
        "    plt.legend()\n",
        "    plt.grid(True)\n",
        "    plt.show()\n",
        "\n"
      ],
      "metadata": {
        "id": "N6L6s7gIqCVV"
      },
      "execution_count": null,
      "outputs": []
    },
    {
      "cell_type": "code",
      "execution_count": null,
      "metadata": {
        "colab": {
          "base_uri": "https://localhost:8080/"
        },
        "id": "h0VijtBr68pS",
        "outputId": "8527bf7c-59f8-4a49-d46a-928bae945229"
      },
      "outputs": [
        {
          "output_type": "stream",
          "name": "stdout",
          "text": [
            "KNN\n",
            "Accuracy: 0.74\n",
            "Classification Report:\n",
            "               precision    recall  f1-score   support\n",
            "\n",
            "           0       0.72      0.75      0.74        28\n",
            "           1       0.76      0.73      0.75        30\n",
            "\n",
            "    accuracy                           0.74        58\n",
            "   macro avg       0.74      0.74      0.74        58\n",
            "weighted avg       0.74      0.74      0.74        58\n",
            "\n",
            "Confusion Matrix:\n",
            "[[21  7]\n",
            " [ 8 22]]\n",
            "Cross-validation scores: [0.72413793 0.5862069  0.68421053 0.63157895 0.64912281]\n",
            "Mean cross-validation score: 0.6550514216575921\n"
          ]
        }
      ],
      "source": [
        "func_KNN(df)"
      ]
    },
    {
      "cell_type": "code",
      "execution_count": null,
      "metadata": {
        "colab": {
          "base_uri": "https://localhost:8080/"
        },
        "id": "5TP-2VMvFNRe",
        "outputId": "80a4e307-9d25-4e01-a0be-6cb6f905966a"
      },
      "outputs": [
        {
          "output_type": "stream",
          "name": "stdout",
          "text": [
            "SVM\n",
            "Accuracy: 0.88\n",
            "Classification Report:\n",
            "              precision    recall  f1-score   support\n",
            "\n",
            "           0       0.92      0.82      0.87        28\n",
            "           1       0.85      0.93      0.89        30\n",
            "\n",
            "    accuracy                           0.88        58\n",
            "   macro avg       0.88      0.88      0.88        58\n",
            "weighted avg       0.88      0.88      0.88        58\n",
            "\n",
            "Confusion Matrix:\n",
            "[[23  5]\n",
            " [ 2 28]]\n",
            "Cross-validation scores: [0.87931034 0.84482759 0.9122807  0.77192982 0.80701754]\n",
            "Mean cross-validation score: 0.8430732002419841\n"
          ]
        }
      ],
      "source": [
        "func_SVM(df)"
      ]
    },
    {
      "cell_type": "code",
      "execution_count": null,
      "metadata": {
        "colab": {
          "base_uri": "https://localhost:8080/"
        },
        "id": "3PTxrVAdFP3c",
        "outputId": "7ce1e2d0-d74d-4c9f-aa3e-9409e7d71b26"
      },
      "outputs": [
        {
          "output_type": "stream",
          "name": "stdout",
          "text": [
            "Random Forest\n",
            "Accuracy: 0.88\n",
            "Classification Report:\n",
            "              precision    recall  f1-score   support\n",
            "\n",
            "           0       0.89      0.86      0.87        28\n",
            "           1       0.87      0.90      0.89        30\n",
            "\n",
            "    accuracy                           0.88        58\n",
            "   macro avg       0.88      0.88      0.88        58\n",
            "weighted avg       0.88      0.88      0.88        58\n",
            "\n",
            "Confusion Matrix:\n",
            "[[24  4]\n",
            " [ 3 27]]\n",
            "Cross-validation scores: [0.86206897 0.82758621 0.9122807  0.75438596 0.75438596]\n",
            "Mean cross-validation score: 0.822141560798548\n"
          ]
        }
      ],
      "source": [
        "func_Random_Forest(df)"
      ]
    },
    {
      "cell_type": "code",
      "execution_count": null,
      "metadata": {
        "colab": {
          "base_uri": "https://localhost:8080/"
        },
        "id": "7RDVTf4xFWje",
        "outputId": "ceec4311-d867-4da2-e805-ae688685722d"
      },
      "outputs": [
        {
          "output_type": "stream",
          "name": "stdout",
          "text": [
            "Decision Tree\n",
            "Accuracy: 0.74\n",
            "Classification Report:\n",
            "              precision    recall  f1-score   support\n",
            "\n",
            "           0       0.69      0.86      0.76        28\n",
            "           1       0.83      0.63      0.72        30\n",
            "\n",
            "    accuracy                           0.74        58\n",
            "   macro avg       0.76      0.75      0.74        58\n",
            "weighted avg       0.76      0.74      0.74        58\n",
            "\n",
            "Confusion Matrix:\n",
            "[[24  4]\n",
            " [11 19]]\n",
            "Cross-validation scores: [0.70689655 0.74137931 0.84210526 0.75438596 0.75438596]\n",
            "Mean cross-validation score: 0.7598306110102844\n"
          ]
        }
      ],
      "source": [
        "func_Decision_Tree(df)"
      ]
    },
    {
      "cell_type": "code",
      "execution_count": null,
      "metadata": {
        "colab": {
          "base_uri": "https://localhost:8080/"
        },
        "id": "YsqEZCf7FbM8",
        "outputId": "ee96ba27-6f7e-443f-db73-632687cb224e"
      },
      "outputs": [
        {
          "output_type": "stream",
          "name": "stdout",
          "text": [
            "Linear Regression\n",
            "Mean Squared Error (MSE): 0.09002265306784765\n",
            "Root Mean Squared Error (RMSE): 0.3000377527376308\n",
            "Mean Absolute Error (MAE): 0.24129173813224938\n",
            "R-squared (R2): 0.6394807084282863\n",
            "Cross-validation scores: [-0.15329305 -0.11918914 -0.0958651  -0.13413965 -0.1668179 ]\n",
            "Mean cross-validation score: -0.13386096899904848\n"
          ]
        }
      ],
      "source": [
        "func_Linear_Regression(df)"
      ]
    },
    {
      "cell_type": "code",
      "execution_count": null,
      "metadata": {
        "colab": {
          "base_uri": "https://localhost:8080/"
        },
        "id": "7qGtZFB7Ffnm",
        "outputId": "76ee7902-cfd5-45da-cb71-94d4b5fed741"
      },
      "outputs": [
        {
          "output_type": "stream",
          "name": "stdout",
          "text": [
            "Logistic Regression\n",
            "Mean Squared Error (MSE): 0.10344827586206896\n",
            "Root Mean Squared Error (RMSE): 0.32163376045133846\n",
            "Mean Absolute Error (MAE): 0.10344827586206896\n",
            "R-squared (R2): 0.5857142857142856\n",
            "Cross-validation scores: [0.86206897 0.84482759 0.89473684 0.78947368 0.8245614 ]\n",
            "Mean cross-validation score: 0.8431336963097399\n"
          ]
        }
      ],
      "source": [
        "func_Logistic_Regression(df)"
      ]
    },
    {
      "cell_type": "code",
      "execution_count": null,
      "metadata": {
        "colab": {
          "base_uri": "https://localhost:8080/"
        },
        "id": "kgC5A8O2FiOJ",
        "outputId": "b9e76e41-379f-4b95-e4ac-7f5342692c7d"
      },
      "outputs": [
        {
          "output_type": "stream",
          "name": "stdout",
          "text": [
            "XGBoost\n",
            "Accuracy: 0.8448275862068966\n",
            "Classification Report:\n",
            "              precision    recall  f1-score   support\n",
            "\n",
            "           0       0.83      0.86      0.84        28\n",
            "           1       0.86      0.83      0.85        30\n",
            "\n",
            "    accuracy                           0.84        58\n",
            "   macro avg       0.84      0.85      0.84        58\n",
            "weighted avg       0.85      0.84      0.84        58\n",
            "\n",
            "Cross-validation scores: [0.82758621 0.82758621 0.84210526 0.78947368 0.75438596]\n",
            "Mean cross-validation score: 0.8082274652147611\n"
          ]
        }
      ],
      "source": [
        "func_XGBoost(df)"
      ]
    },
    {
      "cell_type": "code",
      "source": [
        "func_FNN(df)"
      ],
      "metadata": {
        "colab": {
          "base_uri": "https://localhost:8080/",
          "height": 1000
        },
        "id": "xuFg4h6r89qz",
        "outputId": "b3302714-0986-4353-da59-d61000ac34ea"
      },
      "execution_count": null,
      "outputs": [
        {
          "output_type": "stream",
          "name": "stdout",
          "text": [
            "Epoch 1/100\n",
            "15/15 [==============================] - 4s 20ms/step - loss: 1.2451 - accuracy: 0.5808 - val_loss: 1.1615 - val_accuracy: 0.5690\n",
            "Epoch 2/100\n",
            "15/15 [==============================] - 0s 7ms/step - loss: 1.1403 - accuracy: 0.5633 - val_loss: 1.1211 - val_accuracy: 0.6724\n",
            "Epoch 3/100\n",
            "15/15 [==============================] - 0s 7ms/step - loss: 1.1145 - accuracy: 0.6288 - val_loss: 1.0802 - val_accuracy: 0.7931\n",
            "Epoch 4/100\n",
            "15/15 [==============================] - 0s 7ms/step - loss: 1.1040 - accuracy: 0.6288 - val_loss: 1.0400 - val_accuracy: 0.8103\n",
            "Epoch 5/100\n",
            "15/15 [==============================] - 0s 6ms/step - loss: 1.0706 - accuracy: 0.6594 - val_loss: 1.0043 - val_accuracy: 0.8103\n",
            "Epoch 6/100\n",
            "15/15 [==============================] - 0s 7ms/step - loss: 1.0499 - accuracy: 0.6201 - val_loss: 0.9720 - val_accuracy: 0.8103\n",
            "Epoch 7/100\n",
            "15/15 [==============================] - 0s 7ms/step - loss: 1.0138 - accuracy: 0.6288 - val_loss: 0.9396 - val_accuracy: 0.8276\n",
            "Epoch 8/100\n",
            "15/15 [==============================] - 0s 6ms/step - loss: 1.0026 - accuracy: 0.6594 - val_loss: 0.9125 - val_accuracy: 0.8276\n",
            "Epoch 9/100\n",
            "15/15 [==============================] - 0s 7ms/step - loss: 1.0007 - accuracy: 0.6070 - val_loss: 0.8891 - val_accuracy: 0.8448\n",
            "Epoch 10/100\n",
            "15/15 [==============================] - 0s 8ms/step - loss: 0.9271 - accuracy: 0.7118 - val_loss: 0.8647 - val_accuracy: 0.8448\n",
            "Epoch 11/100\n",
            "15/15 [==============================] - 0s 7ms/step - loss: 0.9597 - accuracy: 0.6507 - val_loss: 0.8341 - val_accuracy: 0.8621\n",
            "Epoch 12/100\n",
            "15/15 [==============================] - 0s 7ms/step - loss: 0.8942 - accuracy: 0.7511 - val_loss: 0.8067 - val_accuracy: 0.8621\n",
            "Epoch 13/100\n",
            "15/15 [==============================] - 0s 6ms/step - loss: 0.9028 - accuracy: 0.6943 - val_loss: 0.7782 - val_accuracy: 0.8621\n",
            "Epoch 14/100\n",
            "15/15 [==============================] - 0s 6ms/step - loss: 0.8694 - accuracy: 0.7205 - val_loss: 0.7546 - val_accuracy: 0.8793\n",
            "Epoch 15/100\n",
            "15/15 [==============================] - 0s 6ms/step - loss: 0.8338 - accuracy: 0.7336 - val_loss: 0.7263 - val_accuracy: 0.8793\n",
            "Epoch 16/100\n",
            "15/15 [==============================] - 0s 7ms/step - loss: 0.7928 - accuracy: 0.7598 - val_loss: 0.6987 - val_accuracy: 0.8793\n",
            "Epoch 17/100\n",
            "15/15 [==============================] - 0s 7ms/step - loss: 0.8186 - accuracy: 0.7729 - val_loss: 0.6735 - val_accuracy: 0.8793\n",
            "Epoch 18/100\n",
            "15/15 [==============================] - 0s 6ms/step - loss: 0.7573 - accuracy: 0.7642 - val_loss: 0.6535 - val_accuracy: 0.8793\n",
            "Epoch 19/100\n",
            "15/15 [==============================] - 0s 8ms/step - loss: 0.7326 - accuracy: 0.7686 - val_loss: 0.6294 - val_accuracy: 0.8793\n",
            "Epoch 20/100\n",
            "15/15 [==============================] - 0s 8ms/step - loss: 0.7743 - accuracy: 0.7336 - val_loss: 0.6130 - val_accuracy: 0.8621\n",
            "Epoch 21/100\n",
            "15/15 [==============================] - 0s 8ms/step - loss: 0.7815 - accuracy: 0.7817 - val_loss: 0.5986 - val_accuracy: 0.8621\n",
            "Epoch 22/100\n",
            "15/15 [==============================] - 0s 6ms/step - loss: 0.7414 - accuracy: 0.7904 - val_loss: 0.5865 - val_accuracy: 0.8621\n",
            "Epoch 23/100\n",
            "15/15 [==============================] - 0s 7ms/step - loss: 0.7332 - accuracy: 0.7424 - val_loss: 0.5746 - val_accuracy: 0.8793\n",
            "Epoch 24/100\n",
            "15/15 [==============================] - 0s 6ms/step - loss: 0.6884 - accuracy: 0.7817 - val_loss: 0.5604 - val_accuracy: 0.8793\n",
            "Epoch 25/100\n",
            "15/15 [==============================] - 0s 6ms/step - loss: 0.7108 - accuracy: 0.7860 - val_loss: 0.5455 - val_accuracy: 0.8793\n",
            "Epoch 26/100\n",
            "15/15 [==============================] - 0s 7ms/step - loss: 0.6535 - accuracy: 0.7991 - val_loss: 0.5322 - val_accuracy: 0.8793\n",
            "Epoch 27/100\n",
            "15/15 [==============================] - 0s 7ms/step - loss: 0.6718 - accuracy: 0.7817 - val_loss: 0.5189 - val_accuracy: 0.8793\n",
            "Epoch 28/100\n",
            "15/15 [==============================] - 0s 8ms/step - loss: 0.6696 - accuracy: 0.7729 - val_loss: 0.5092 - val_accuracy: 0.8793\n",
            "Epoch 29/100\n",
            "15/15 [==============================] - 0s 8ms/step - loss: 0.6639 - accuracy: 0.8079 - val_loss: 0.5002 - val_accuracy: 0.8793\n",
            "Epoch 30/100\n",
            "15/15 [==============================] - 0s 9ms/step - loss: 0.6543 - accuracy: 0.8079 - val_loss: 0.4930 - val_accuracy: 0.8793\n",
            "Epoch 31/100\n",
            "15/15 [==============================] - 0s 6ms/step - loss: 0.6003 - accuracy: 0.8166 - val_loss: 0.4843 - val_accuracy: 0.8793\n",
            "Epoch 32/100\n",
            "15/15 [==============================] - 0s 6ms/step - loss: 0.6427 - accuracy: 0.7948 - val_loss: 0.4777 - val_accuracy: 0.8793\n",
            "Epoch 33/100\n",
            "15/15 [==============================] - 0s 6ms/step - loss: 0.6504 - accuracy: 0.8122 - val_loss: 0.4715 - val_accuracy: 0.8793\n",
            "Epoch 34/100\n",
            "15/15 [==============================] - 0s 7ms/step - loss: 0.6067 - accuracy: 0.8122 - val_loss: 0.4649 - val_accuracy: 0.8793\n",
            "Epoch 35/100\n",
            "15/15 [==============================] - 0s 6ms/step - loss: 0.6288 - accuracy: 0.8122 - val_loss: 0.4579 - val_accuracy: 0.8793\n",
            "Epoch 36/100\n",
            "15/15 [==============================] - 0s 6ms/step - loss: 0.5834 - accuracy: 0.8253 - val_loss: 0.4515 - val_accuracy: 0.8793\n",
            "Epoch 37/100\n",
            "15/15 [==============================] - 0s 6ms/step - loss: 0.5984 - accuracy: 0.7948 - val_loss: 0.4464 - val_accuracy: 0.8793\n",
            "Epoch 38/100\n",
            "15/15 [==============================] - 0s 8ms/step - loss: 0.6017 - accuracy: 0.7991 - val_loss: 0.4398 - val_accuracy: 0.8793\n",
            "Epoch 39/100\n",
            "15/15 [==============================] - 0s 6ms/step - loss: 0.5852 - accuracy: 0.8341 - val_loss: 0.4347 - val_accuracy: 0.8793\n",
            "Epoch 40/100\n",
            "15/15 [==============================] - 0s 7ms/step - loss: 0.6272 - accuracy: 0.8341 - val_loss: 0.4302 - val_accuracy: 0.8793\n",
            "Epoch 41/100\n",
            "15/15 [==============================] - 0s 9ms/step - loss: 0.5797 - accuracy: 0.8122 - val_loss: 0.4293 - val_accuracy: 0.8793\n",
            "Epoch 42/100\n",
            "15/15 [==============================] - 0s 10ms/step - loss: 0.6187 - accuracy: 0.8341 - val_loss: 0.4287 - val_accuracy: 0.8793\n",
            "Epoch 43/100\n",
            "15/15 [==============================] - 0s 10ms/step - loss: 0.5650 - accuracy: 0.8603 - val_loss: 0.4247 - val_accuracy: 0.8966\n",
            "Epoch 44/100\n",
            "15/15 [==============================] - 0s 10ms/step - loss: 0.5630 - accuracy: 0.8384 - val_loss: 0.4206 - val_accuracy: 0.8966\n",
            "Epoch 45/100\n",
            "15/15 [==============================] - 0s 12ms/step - loss: 0.5289 - accuracy: 0.8559 - val_loss: 0.4145 - val_accuracy: 0.8966\n",
            "Epoch 46/100\n",
            "15/15 [==============================] - 0s 13ms/step - loss: 0.5129 - accuracy: 0.8472 - val_loss: 0.4072 - val_accuracy: 0.8966\n",
            "Epoch 47/100\n",
            "15/15 [==============================] - 0s 10ms/step - loss: 0.5681 - accuracy: 0.8515 - val_loss: 0.4044 - val_accuracy: 0.8966\n",
            "Epoch 48/100\n",
            "15/15 [==============================] - 0s 11ms/step - loss: 0.5436 - accuracy: 0.8297 - val_loss: 0.4041 - val_accuracy: 0.8966\n",
            "Epoch 49/100\n",
            "15/15 [==============================] - 0s 10ms/step - loss: 0.5238 - accuracy: 0.8603 - val_loss: 0.4020 - val_accuracy: 0.8966\n",
            "Epoch 50/100\n",
            "15/15 [==============================] - 0s 10ms/step - loss: 0.5509 - accuracy: 0.8428 - val_loss: 0.4024 - val_accuracy: 0.8793\n",
            "Epoch 51/100\n",
            "15/15 [==============================] - 0s 11ms/step - loss: 0.5219 - accuracy: 0.8210 - val_loss: 0.3978 - val_accuracy: 0.8793\n",
            "Epoch 52/100\n",
            "15/15 [==============================] - 0s 11ms/step - loss: 0.5042 - accuracy: 0.8559 - val_loss: 0.3928 - val_accuracy: 0.8793\n",
            "Epoch 53/100\n",
            "15/15 [==============================] - 0s 10ms/step - loss: 0.5410 - accuracy: 0.8341 - val_loss: 0.3894 - val_accuracy: 0.8793\n",
            "Epoch 54/100\n",
            "15/15 [==============================] - 0s 10ms/step - loss: 0.5166 - accuracy: 0.8428 - val_loss: 0.3852 - val_accuracy: 0.8966\n",
            "Epoch 55/100\n",
            "15/15 [==============================] - 0s 12ms/step - loss: 0.5103 - accuracy: 0.8515 - val_loss: 0.3805 - val_accuracy: 0.9138\n",
            "Epoch 56/100\n",
            "15/15 [==============================] - 0s 15ms/step - loss: 0.5347 - accuracy: 0.8166 - val_loss: 0.3799 - val_accuracy: 0.9138\n",
            "Epoch 57/100\n",
            "15/15 [==============================] - 0s 10ms/step - loss: 0.4783 - accuracy: 0.8690 - val_loss: 0.3780 - val_accuracy: 0.9138\n",
            "Epoch 58/100\n",
            "15/15 [==============================] - 0s 10ms/step - loss: 0.5333 - accuracy: 0.8515 - val_loss: 0.3774 - val_accuracy: 0.9138\n",
            "Epoch 59/100\n",
            "15/15 [==============================] - 0s 9ms/step - loss: 0.4903 - accuracy: 0.8603 - val_loss: 0.3751 - val_accuracy: 0.8966\n",
            "Epoch 60/100\n",
            "15/15 [==============================] - 0s 10ms/step - loss: 0.5217 - accuracy: 0.8253 - val_loss: 0.3769 - val_accuracy: 0.8966\n",
            "Epoch 61/100\n",
            "15/15 [==============================] - 0s 9ms/step - loss: 0.4993 - accuracy: 0.8472 - val_loss: 0.3779 - val_accuracy: 0.9138\n",
            "Epoch 62/100\n",
            "15/15 [==============================] - 0s 10ms/step - loss: 0.4796 - accuracy: 0.8384 - val_loss: 0.3761 - val_accuracy: 0.9138\n",
            "Epoch 63/100\n",
            "15/15 [==============================] - 0s 12ms/step - loss: 0.4864 - accuracy: 0.8515 - val_loss: 0.3728 - val_accuracy: 0.9138\n",
            "Epoch 64/100\n",
            "15/15 [==============================] - 0s 11ms/step - loss: 0.5137 - accuracy: 0.8559 - val_loss: 0.3700 - val_accuracy: 0.9138\n",
            "Epoch 65/100\n",
            "15/15 [==============================] - 0s 9ms/step - loss: 0.4812 - accuracy: 0.8603 - val_loss: 0.3690 - val_accuracy: 0.8966\n",
            "Epoch 66/100\n",
            "15/15 [==============================] - 0s 9ms/step - loss: 0.4725 - accuracy: 0.8646 - val_loss: 0.3683 - val_accuracy: 0.8966\n",
            "Epoch 67/100\n",
            "15/15 [==============================] - 0s 10ms/step - loss: 0.4959 - accuracy: 0.8603 - val_loss: 0.3661 - val_accuracy: 0.8966\n",
            "Epoch 68/100\n",
            "15/15 [==============================] - 0s 9ms/step - loss: 0.4802 - accuracy: 0.8341 - val_loss: 0.3647 - val_accuracy: 0.8966\n",
            "Epoch 69/100\n",
            "15/15 [==============================] - 0s 10ms/step - loss: 0.5170 - accuracy: 0.8253 - val_loss: 0.3652 - val_accuracy: 0.8966\n",
            "Epoch 70/100\n",
            "15/15 [==============================] - 0s 11ms/step - loss: 0.5024 - accuracy: 0.8646 - val_loss: 0.3644 - val_accuracy: 0.8966\n",
            "Epoch 71/100\n",
            "15/15 [==============================] - 0s 6ms/step - loss: 0.4664 - accuracy: 0.8603 - val_loss: 0.3636 - val_accuracy: 0.8966\n",
            "Epoch 72/100\n",
            "15/15 [==============================] - 0s 6ms/step - loss: 0.4751 - accuracy: 0.8734 - val_loss: 0.3639 - val_accuracy: 0.8966\n",
            "Epoch 73/100\n",
            "15/15 [==============================] - 0s 7ms/step - loss: 0.5091 - accuracy: 0.8777 - val_loss: 0.3650 - val_accuracy: 0.8966\n",
            "Epoch 74/100\n",
            "15/15 [==============================] - 0s 6ms/step - loss: 0.4779 - accuracy: 0.8777 - val_loss: 0.3632 - val_accuracy: 0.8966\n",
            "Epoch 75/100\n",
            "15/15 [==============================] - 0s 6ms/step - loss: 0.4730 - accuracy: 0.8603 - val_loss: 0.3624 - val_accuracy: 0.8966\n",
            "Epoch 76/100\n",
            "15/15 [==============================] - 0s 6ms/step - loss: 0.4254 - accuracy: 0.8777 - val_loss: 0.3619 - val_accuracy: 0.8966\n",
            "Epoch 77/100\n",
            "15/15 [==============================] - 0s 7ms/step - loss: 0.4316 - accuracy: 0.8865 - val_loss: 0.3567 - val_accuracy: 0.8966\n",
            "Epoch 78/100\n",
            "15/15 [==============================] - 0s 7ms/step - loss: 0.4705 - accuracy: 0.8515 - val_loss: 0.3552 - val_accuracy: 0.8966\n",
            "Epoch 79/100\n",
            "15/15 [==============================] - 0s 7ms/step - loss: 0.4635 - accuracy: 0.8559 - val_loss: 0.3527 - val_accuracy: 0.9138\n",
            "Epoch 80/100\n",
            "15/15 [==============================] - 0s 7ms/step - loss: 0.4679 - accuracy: 0.8690 - val_loss: 0.3550 - val_accuracy: 0.9138\n",
            "Epoch 81/100\n",
            "15/15 [==============================] - 0s 7ms/step - loss: 0.4787 - accuracy: 0.8646 - val_loss: 0.3553 - val_accuracy: 0.9138\n",
            "Epoch 82/100\n",
            "15/15 [==============================] - 0s 5ms/step - loss: 0.4411 - accuracy: 0.8821 - val_loss: 0.3549 - val_accuracy: 0.9138\n",
            "Epoch 83/100\n",
            "15/15 [==============================] - 0s 6ms/step - loss: 0.4663 - accuracy: 0.8690 - val_loss: 0.3522 - val_accuracy: 0.9138\n",
            "Epoch 84/100\n",
            "15/15 [==============================] - 0s 6ms/step - loss: 0.4348 - accuracy: 0.8603 - val_loss: 0.3500 - val_accuracy: 0.9138\n",
            "Epoch 85/100\n",
            "15/15 [==============================] - 0s 6ms/step - loss: 0.4226 - accuracy: 0.8908 - val_loss: 0.3485 - val_accuracy: 0.9138\n",
            "Epoch 86/100\n",
            "15/15 [==============================] - 0s 5ms/step - loss: 0.4237 - accuracy: 0.8603 - val_loss: 0.3462 - val_accuracy: 0.9138\n",
            "Epoch 87/100\n",
            "15/15 [==============================] - 0s 6ms/step - loss: 0.4367 - accuracy: 0.8690 - val_loss: 0.3440 - val_accuracy: 0.9138\n",
            "Epoch 88/100\n",
            "15/15 [==============================] - 0s 6ms/step - loss: 0.4367 - accuracy: 0.8384 - val_loss: 0.3445 - val_accuracy: 0.9138\n",
            "Epoch 89/100\n",
            "15/15 [==============================] - 0s 7ms/step - loss: 0.4651 - accuracy: 0.8559 - val_loss: 0.3447 - val_accuracy: 0.9138\n",
            "Epoch 90/100\n",
            "15/15 [==============================] - 0s 7ms/step - loss: 0.4237 - accuracy: 0.8734 - val_loss: 0.3461 - val_accuracy: 0.9138\n",
            "Epoch 91/100\n",
            "15/15 [==============================] - 0s 7ms/step - loss: 0.4129 - accuracy: 0.8777 - val_loss: 0.3427 - val_accuracy: 0.9138\n",
            "Epoch 92/100\n",
            "15/15 [==============================] - 0s 6ms/step - loss: 0.4564 - accuracy: 0.8734 - val_loss: 0.3403 - val_accuracy: 0.9138\n",
            "Epoch 93/100\n",
            "15/15 [==============================] - 0s 6ms/step - loss: 0.4276 - accuracy: 0.8734 - val_loss: 0.3401 - val_accuracy: 0.9138\n",
            "Epoch 94/100\n",
            "15/15 [==============================] - 0s 7ms/step - loss: 0.4657 - accuracy: 0.8559 - val_loss: 0.3439 - val_accuracy: 0.9138\n",
            "Epoch 95/100\n",
            "15/15 [==============================] - 0s 6ms/step - loss: 0.4193 - accuracy: 0.8777 - val_loss: 0.3444 - val_accuracy: 0.9138\n",
            "Epoch 96/100\n",
            "15/15 [==============================] - 0s 6ms/step - loss: 0.4220 - accuracy: 0.8865 - val_loss: 0.3437 - val_accuracy: 0.9138\n",
            "Epoch 97/100\n",
            "15/15 [==============================] - 0s 6ms/step - loss: 0.4708 - accuracy: 0.8472 - val_loss: 0.3442 - val_accuracy: 0.9138\n",
            "Epoch 98/100\n",
            "15/15 [==============================] - 0s 6ms/step - loss: 0.4285 - accuracy: 0.8646 - val_loss: 0.3410 - val_accuracy: 0.9138\n",
            "Epoch 99/100\n",
            "15/15 [==============================] - 0s 7ms/step - loss: 0.4101 - accuracy: 0.8515 - val_loss: 0.3419 - val_accuracy: 0.9138\n",
            "Epoch 100/100\n",
            "15/15 [==============================] - 0s 8ms/step - loss: 0.3979 - accuracy: 0.8908 - val_loss: 0.3409 - val_accuracy: 0.9138\n",
            "2/2 [==============================] - 0s 4ms/step\n",
            "Test Accuracy: 0.9137931034482759\n"
          ]
        },
        {
          "output_type": "display_data",
          "data": {
            "text/plain": [
              "<Figure size 1000x600 with 1 Axes>"
            ],
            "image/png": "[encoded data removed]"
          },
          "metadata": {}
        }
      ]
    },
    {
      "cell_type": "markdown",
      "metadata": {
        "id": "-NYH2UEbHA14"
      },
      "source": [
        "# **Drop Columns Based on Correlation Coefficient**"
      ]
    },
    {
      "cell_type": "code",
      "execution_count": null,
      "metadata": {
        "colab": {
          "base_uri": "https://localhost:8080/"
        },
        "id": "wCzIBfycHLd9",
        "outputId": "1832b6cc-aa13-4a9a-d00c-85d92e8c738a"
      },
      "outputs": [
        {
          "output_type": "stream",
          "name": "stdout",
          "text": [
            "   age  sex  cp  trestbps  chol  restecg  thalach  exang  oldpeak  slope  ca  \\\n",
            "0   52    1   0       125   212        1      168      0      1.0      2   2   \n",
            "1   53    1   0       140   203        0      155      1      3.1      0   0   \n",
            "2   70    1   0       145   174        1      125      1      2.6      0   0   \n",
            "3   61    1   0       148   203        1      161      0      0.0      2   1   \n",
            "4   62    0   0       138   294        1      106      0      1.9      1   3   \n",
            "\n",
            "   thal  target  \n",
            "0     3       0  \n",
            "1     3       0  \n",
            "2     3       0  \n",
            "3     3       0  \n",
            "4     2       0  \n",
            "Missing values count per column:\n",
            "age         0\n",
            "sex         0\n",
            "cp          0\n",
            "trestbps    0\n",
            "chol        0\n",
            "restecg     0\n",
            "thalach     0\n",
            "exang       0\n",
            "oldpeak     0\n",
            "slope       0\n",
            "ca          0\n",
            "thal        0\n",
            "target      0\n",
            "dtype: int64\n"
          ]
        }
      ],
      "source": [
        "# @title **Dropping FBS**\n",
        "fdf = df.drop(columns=['fbs'])\n",
        "print(fdf.head())\n",
        "\n",
        "# Check for missing values in the DataFrame\n",
        "missing_values = fdf.isnull()\n",
        "\n",
        "# Count the number of missing values in each column\n",
        "missing_values_count = missing_values.sum()\n",
        "\n",
        "# Print the number of missing values in each column\n",
        "print(\"Missing values count per column:\")\n",
        "print(missing_values_count)\n"
      ]
    },
    {
      "cell_type": "code",
      "execution_count": null,
      "metadata": {
        "colab": {
          "base_uri": "https://localhost:8080/"
        },
        "id": "ETTSULDhGsW6",
        "outputId": "67499048-c9f8-4acc-9dec-ca2b91f1e073"
      },
      "outputs": [
        {
          "output_type": "stream",
          "name": "stdout",
          "text": [
            "KNN\n",
            "Accuracy: 0.74\n",
            "Classification Report:\n",
            "               precision    recall  f1-score   support\n",
            "\n",
            "           0       0.72      0.75      0.74        28\n",
            "           1       0.76      0.73      0.75        30\n",
            "\n",
            "    accuracy                           0.74        58\n",
            "   macro avg       0.74      0.74      0.74        58\n",
            "weighted avg       0.74      0.74      0.74        58\n",
            "\n",
            "Confusion Matrix:\n",
            "[[21  7]\n",
            " [ 8 22]]\n",
            "Cross-validation scores: [0.72413793 0.5862069  0.68421053 0.63157895 0.64912281]\n",
            "Mean cross-validation score: 0.6550514216575921\n"
          ]
        }
      ],
      "source": [
        "func_KNN(fdf)"
      ]
    },
    {
      "cell_type": "code",
      "execution_count": null,
      "metadata": {
        "colab": {
          "base_uri": "https://localhost:8080/"
        },
        "id": "3UD--zn0G1Gg",
        "outputId": "10cda7ec-2474-4d5a-b505-2dd55fed0a76"
      },
      "outputs": [
        {
          "output_type": "stream",
          "name": "stdout",
          "text": [
            "SVM\n",
            "Accuracy: 0.90\n",
            "Classification Report:\n",
            "              precision    recall  f1-score   support\n",
            "\n",
            "           0       0.92      0.86      0.89        28\n",
            "           1       0.88      0.93      0.90        30\n",
            "\n",
            "    accuracy                           0.90        58\n",
            "   macro avg       0.90      0.90      0.90        58\n",
            "weighted avg       0.90      0.90      0.90        58\n",
            "\n",
            "Confusion Matrix:\n",
            "[[24  4]\n",
            " [ 2 28]]\n",
            "Cross-validation scores: [0.87931034 0.84482759 0.9122807  0.73684211 0.80701754]\n",
            "Mean cross-validation score: 0.8360556563823351\n"
          ]
        }
      ],
      "source": [
        "func_SVM(fdf)"
      ]
    },
    {
      "cell_type": "code",
      "execution_count": null,
      "metadata": {
        "colab": {
          "base_uri": "https://localhost:8080/"
        },
        "id": "iDka-usFG9iL",
        "outputId": "c68ff923-1202-49d7-fa6d-334f3f6f4954"
      },
      "outputs": [
        {
          "output_type": "stream",
          "name": "stdout",
          "text": [
            "Random Forest\n",
            "Accuracy: 0.88\n",
            "Classification Report:\n",
            "              precision    recall  f1-score   support\n",
            "\n",
            "           0       0.89      0.86      0.87        28\n",
            "           1       0.87      0.90      0.89        30\n",
            "\n",
            "    accuracy                           0.88        58\n",
            "   macro avg       0.88      0.88      0.88        58\n",
            "weighted avg       0.88      0.88      0.88        58\n",
            "\n",
            "Confusion Matrix:\n",
            "[[24  4]\n",
            " [ 3 27]]\n",
            "Cross-validation scores: [0.89655172 0.82758621 0.85964912 0.78947368 0.75438596]\n",
            "Mean cross-validation score: 0.8255293405928615\n"
          ]
        }
      ],
      "source": [
        "func_Random_Forest(fdf)"
      ]
    },
    {
      "cell_type": "code",
      "execution_count": null,
      "metadata": {
        "colab": {
          "base_uri": "https://localhost:8080/"
        },
        "id": "Kd4GgrING_gi",
        "outputId": "a882c4e9-2819-4830-b430-a8e48207d8b6"
      },
      "outputs": [
        {
          "output_type": "stream",
          "name": "stdout",
          "text": [
            "Decision Tree\n",
            "Accuracy: 0.74\n",
            "Classification Report:\n",
            "              precision    recall  f1-score   support\n",
            "\n",
            "           0       0.69      0.86      0.76        28\n",
            "           1       0.83      0.63      0.72        30\n",
            "\n",
            "    accuracy                           0.74        58\n",
            "   macro avg       0.76      0.75      0.74        58\n",
            "weighted avg       0.76      0.74      0.74        58\n",
            "\n",
            "Confusion Matrix:\n",
            "[[24  4]\n",
            " [11 19]]\n",
            "Cross-validation scores: [0.68965517 0.75862069 0.8245614  0.73684211 0.73684211]\n",
            "Mean cross-validation score: 0.7493042952208107\n"
          ]
        }
      ],
      "source": [
        "func_Decision_Tree(fdf)"
      ]
    },
    {
      "cell_type": "code",
      "execution_count": null,
      "metadata": {
        "colab": {
          "base_uri": "https://localhost:8080/"
        },
        "id": "Uha070usHSFA",
        "outputId": "b8e02638-ba10-461a-f01c-d31e2b9c1096"
      },
      "outputs": [
        {
          "output_type": "stream",
          "name": "stdout",
          "text": [
            "Linear Regression\n",
            "Mean Squared Error (MSE): 0.09056602509218195\n",
            "Root Mean Squared Error (RMSE): 0.3009418965384879\n",
            "Mean Absolute Error (MAE): 0.24130383383040993\n",
            "R-squared (R2): 0.6373046328451188\n",
            "Cross-validation scores: [-0.14996321 -0.11890016 -0.09620233 -0.13385488 -0.16568126]\n",
            "Mean cross-validation score: -0.1329203686809727\n"
          ]
        }
      ],
      "source": [
        "func_Linear_Regression(fdf)"
      ]
    },
    {
      "cell_type": "code",
      "execution_count": null,
      "metadata": {
        "colab": {
          "base_uri": "https://localhost:8080/"
        },
        "id": "PRQXuGNiHUhy",
        "outputId": "85556e55-036b-4ee2-a84d-808c04e3778d"
      },
      "outputs": [
        {
          "output_type": "stream",
          "name": "stdout",
          "text": [
            "Logistic Regression\n",
            "Mean Squared Error (MSE): 0.10344827586206896\n",
            "Root Mean Squared Error (RMSE): 0.32163376045133846\n",
            "Mean Absolute Error (MAE): 0.10344827586206896\n",
            "R-squared (R2): 0.5857142857142856\n",
            "Cross-validation scores: [0.86206897 0.84482759 0.89473684 0.80701754 0.8245614 ]\n",
            "Mean cross-validation score: 0.8466424682395643\n"
          ]
        }
      ],
      "source": [
        "func_Logistic_Regression(fdf)"
      ]
    },
    {
      "cell_type": "code",
      "execution_count": null,
      "metadata": {
        "colab": {
          "base_uri": "https://localhost:8080/"
        },
        "id": "wYZQOSU2HWXp",
        "outputId": "68853a2c-f25d-4e3c-c6f6-ba9468eaf33e"
      },
      "outputs": [
        {
          "output_type": "stream",
          "name": "stdout",
          "text": [
            "XGBoost\n",
            "Accuracy: 0.8448275862068966\n",
            "Classification Report:\n",
            "              precision    recall  f1-score   support\n",
            "\n",
            "           0       0.83      0.86      0.84        28\n",
            "           1       0.86      0.83      0.85        30\n",
            "\n",
            "    accuracy                           0.84        58\n",
            "   macro avg       0.84      0.85      0.84        58\n",
            "weighted avg       0.85      0.84      0.84        58\n",
            "\n",
            "Cross-validation scores: [0.84482759 0.82758621 0.8245614  0.75438596 0.75438596]\n",
            "Mean cross-validation score: 0.8011494252873563\n"
          ]
        }
      ],
      "source": [
        "func_XGBoost(fdf)"
      ]
    },
    {
      "cell_type": "code",
      "source": [
        "func_FNN(fdf)"
      ],
      "metadata": {
        "colab": {
          "base_uri": "https://localhost:8080/",
          "height": 1000
        },
        "id": "tlIRAvdU-oGE",
        "outputId": "1a7f11a8-876c-40f3-a6fd-1578968c567a"
      },
      "execution_count": null,
      "outputs": [
        {
          "output_type": "stream",
          "name": "stdout",
          "text": [
            "Epoch 1/100\n",
            "15/15 [==============================] - 2s 16ms/step - loss: 1.2123 - accuracy: 0.4760 - val_loss: 1.1467 - val_accuracy: 0.6034\n",
            "Epoch 2/100\n",
            "15/15 [==============================] - 0s 6ms/step - loss: 1.1706 - accuracy: 0.5153 - val_loss: 1.1080 - val_accuracy: 0.7931\n",
            "Epoch 3/100\n",
            "15/15 [==============================] - 0s 7ms/step - loss: 1.1317 - accuracy: 0.5546 - val_loss: 1.0773 - val_accuracy: 0.8103\n",
            "Epoch 4/100\n",
            "15/15 [==============================] - 0s 7ms/step - loss: 1.1079 - accuracy: 0.5066 - val_loss: 1.0468 - val_accuracy: 0.8103\n",
            "Epoch 5/100\n",
            "15/15 [==============================] - 0s 7ms/step - loss: 1.0936 - accuracy: 0.5852 - val_loss: 1.0214 - val_accuracy: 0.8276\n",
            "Epoch 6/100\n",
            "15/15 [==============================] - 0s 7ms/step - loss: 1.0406 - accuracy: 0.6288 - val_loss: 0.9932 - val_accuracy: 0.8276\n",
            "Epoch 7/100\n",
            "15/15 [==============================] - 0s 7ms/step - loss: 1.0274 - accuracy: 0.6550 - val_loss: 0.9672 - val_accuracy: 0.8276\n",
            "Epoch 8/100\n",
            "15/15 [==============================] - 0s 6ms/step - loss: 0.9931 - accuracy: 0.6856 - val_loss: 0.9380 - val_accuracy: 0.8276\n",
            "Epoch 9/100\n",
            "15/15 [==============================] - 0s 6ms/step - loss: 0.9700 - accuracy: 0.6638 - val_loss: 0.9065 - val_accuracy: 0.8448\n",
            "Epoch 10/100\n",
            "15/15 [==============================] - 0s 7ms/step - loss: 0.9456 - accuracy: 0.7118 - val_loss: 0.8746 - val_accuracy: 0.8621\n",
            "Epoch 11/100\n",
            "15/15 [==============================] - 0s 7ms/step - loss: 0.9345 - accuracy: 0.6987 - val_loss: 0.8460 - val_accuracy: 0.8793\n",
            "Epoch 12/100\n",
            "15/15 [==============================] - 0s 5ms/step - loss: 0.8939 - accuracy: 0.7205 - val_loss: 0.8144 - val_accuracy: 0.8793\n",
            "Epoch 13/100\n",
            "15/15 [==============================] - 0s 7ms/step - loss: 0.8684 - accuracy: 0.7511 - val_loss: 0.7804 - val_accuracy: 0.8793\n",
            "Epoch 14/100\n",
            "15/15 [==============================] - 0s 7ms/step - loss: 0.8474 - accuracy: 0.7249 - val_loss: 0.7475 - val_accuracy: 0.8793\n",
            "Epoch 15/100\n",
            "15/15 [==============================] - 0s 7ms/step - loss: 0.7982 - accuracy: 0.7686 - val_loss: 0.7145 - val_accuracy: 0.8793\n",
            "Epoch 16/100\n",
            "15/15 [==============================] - 0s 6ms/step - loss: 0.7999 - accuracy: 0.7598 - val_loss: 0.6839 - val_accuracy: 0.8793\n",
            "Epoch 17/100\n",
            "15/15 [==============================] - 0s 8ms/step - loss: 0.7808 - accuracy: 0.7991 - val_loss: 0.6555 - val_accuracy: 0.8793\n",
            "Epoch 18/100\n",
            "15/15 [==============================] - 0s 9ms/step - loss: 0.7746 - accuracy: 0.7860 - val_loss: 0.6310 - val_accuracy: 0.8793\n",
            "Epoch 19/100\n",
            "15/15 [==============================] - 0s 9ms/step - loss: 0.7506 - accuracy: 0.7686 - val_loss: 0.6118 - val_accuracy: 0.8966\n",
            "Epoch 20/100\n",
            "15/15 [==============================] - 0s 9ms/step - loss: 0.7507 - accuracy: 0.8079 - val_loss: 0.5936 - val_accuracy: 0.8966\n",
            "Epoch 21/100\n",
            "15/15 [==============================] - 0s 9ms/step - loss: 0.7104 - accuracy: 0.8035 - val_loss: 0.5795 - val_accuracy: 0.8793\n",
            "Epoch 22/100\n",
            "15/15 [==============================] - 0s 9ms/step - loss: 0.7135 - accuracy: 0.7904 - val_loss: 0.5611 - val_accuracy: 0.8966\n",
            "Epoch 23/100\n",
            "15/15 [==============================] - 0s 9ms/step - loss: 0.7168 - accuracy: 0.7860 - val_loss: 0.5488 - val_accuracy: 0.8966\n",
            "Epoch 24/100\n",
            "15/15 [==============================] - 0s 11ms/step - loss: 0.6866 - accuracy: 0.7991 - val_loss: 0.5380 - val_accuracy: 0.8966\n",
            "Epoch 25/100\n",
            "15/15 [==============================] - 0s 9ms/step - loss: 0.7079 - accuracy: 0.7642 - val_loss: 0.5283 - val_accuracy: 0.8966\n",
            "Epoch 26/100\n",
            "15/15 [==============================] - 0s 9ms/step - loss: 0.6469 - accuracy: 0.7948 - val_loss: 0.5158 - val_accuracy: 0.8966\n",
            "Epoch 27/100\n",
            "15/15 [==============================] - 0s 8ms/step - loss: 0.6573 - accuracy: 0.8079 - val_loss: 0.5052 - val_accuracy: 0.8966\n",
            "Epoch 28/100\n",
            "15/15 [==============================] - 0s 9ms/step - loss: 0.6188 - accuracy: 0.8341 - val_loss: 0.4937 - val_accuracy: 0.8966\n",
            "Epoch 29/100\n",
            "15/15 [==============================] - 0s 8ms/step - loss: 0.6320 - accuracy: 0.8166 - val_loss: 0.4863 - val_accuracy: 0.8966\n",
            "Epoch 30/100\n",
            "15/15 [==============================] - 0s 9ms/step - loss: 0.6509 - accuracy: 0.8035 - val_loss: 0.4798 - val_accuracy: 0.8966\n",
            "Epoch 31/100\n",
            "15/15 [==============================] - 0s 9ms/step - loss: 0.6531 - accuracy: 0.7904 - val_loss: 0.4710 - val_accuracy: 0.8966\n",
            "Epoch 32/100\n",
            "15/15 [==============================] - 0s 12ms/step - loss: 0.5914 - accuracy: 0.8253 - val_loss: 0.4633 - val_accuracy: 0.8966\n",
            "Epoch 33/100\n",
            "15/15 [==============================] - 0s 10ms/step - loss: 0.5961 - accuracy: 0.8472 - val_loss: 0.4557 - val_accuracy: 0.8966\n",
            "Epoch 34/100\n",
            "15/15 [==============================] - 0s 10ms/step - loss: 0.5802 - accuracy: 0.8428 - val_loss: 0.4462 - val_accuracy: 0.8966\n",
            "Epoch 35/100\n",
            "15/15 [==============================] - 0s 9ms/step - loss: 0.6018 - accuracy: 0.8253 - val_loss: 0.4432 - val_accuracy: 0.8966\n",
            "Epoch 36/100\n",
            "15/15 [==============================] - 0s 9ms/step - loss: 0.5680 - accuracy: 0.8384 - val_loss: 0.4396 - val_accuracy: 0.9138\n",
            "Epoch 37/100\n",
            "15/15 [==============================] - 0s 11ms/step - loss: 0.5813 - accuracy: 0.8210 - val_loss: 0.4344 - val_accuracy: 0.8966\n",
            "Epoch 38/100\n",
            "15/15 [==============================] - 0s 10ms/step - loss: 0.5715 - accuracy: 0.8384 - val_loss: 0.4289 - val_accuracy: 0.9138\n",
            "Epoch 39/100\n",
            "15/15 [==============================] - 0s 9ms/step - loss: 0.5620 - accuracy: 0.8472 - val_loss: 0.4252 - val_accuracy: 0.9138\n",
            "Epoch 40/100\n",
            "15/15 [==============================] - 0s 9ms/step - loss: 0.5491 - accuracy: 0.8603 - val_loss: 0.4204 - val_accuracy: 0.9138\n",
            "Epoch 41/100\n",
            "15/15 [==============================] - 0s 9ms/step - loss: 0.5644 - accuracy: 0.8210 - val_loss: 0.4176 - val_accuracy: 0.9138\n",
            "Epoch 42/100\n",
            "15/15 [==============================] - 0s 10ms/step - loss: 0.5369 - accuracy: 0.8472 - val_loss: 0.4125 - val_accuracy: 0.9138\n",
            "Epoch 43/100\n",
            "15/15 [==============================] - 0s 9ms/step - loss: 0.5349 - accuracy: 0.8341 - val_loss: 0.4086 - val_accuracy: 0.9138\n",
            "Epoch 44/100\n",
            "15/15 [==============================] - 0s 13ms/step - loss: 0.5439 - accuracy: 0.8428 - val_loss: 0.4056 - val_accuracy: 0.8966\n",
            "Epoch 45/100\n",
            "15/15 [==============================] - 0s 7ms/step - loss: 0.5122 - accuracy: 0.8646 - val_loss: 0.4014 - val_accuracy: 0.8966\n",
            "Epoch 46/100\n",
            "15/15 [==============================] - 0s 7ms/step - loss: 0.5621 - accuracy: 0.8515 - val_loss: 0.3985 - val_accuracy: 0.8966\n",
            "Epoch 47/100\n",
            "15/15 [==============================] - 0s 7ms/step - loss: 0.5261 - accuracy: 0.8341 - val_loss: 0.3962 - val_accuracy: 0.9138\n",
            "Epoch 48/100\n",
            "15/15 [==============================] - 0s 6ms/step - loss: 0.5025 - accuracy: 0.8559 - val_loss: 0.3938 - val_accuracy: 0.9138\n",
            "Epoch 49/100\n",
            "15/15 [==============================] - 0s 7ms/step - loss: 0.5296 - accuracy: 0.8515 - val_loss: 0.3927 - val_accuracy: 0.9138\n",
            "Epoch 50/100\n",
            "15/15 [==============================] - 0s 6ms/step - loss: 0.5057 - accuracy: 0.8428 - val_loss: 0.3893 - val_accuracy: 0.9138\n",
            "Epoch 51/100\n",
            "15/15 [==============================] - 0s 7ms/step - loss: 0.5091 - accuracy: 0.8428 - val_loss: 0.3885 - val_accuracy: 0.8966\n",
            "Epoch 52/100\n",
            "15/15 [==============================] - 0s 7ms/step - loss: 0.4958 - accuracy: 0.8515 - val_loss: 0.3857 - val_accuracy: 0.8966\n",
            "Epoch 53/100\n",
            "15/15 [==============================] - 0s 8ms/step - loss: 0.5040 - accuracy: 0.8515 - val_loss: 0.3829 - val_accuracy: 0.8966\n",
            "Epoch 54/100\n",
            "15/15 [==============================] - 0s 8ms/step - loss: 0.4967 - accuracy: 0.8734 - val_loss: 0.3806 - val_accuracy: 0.9138\n",
            "Epoch 55/100\n",
            "15/15 [==============================] - 0s 7ms/step - loss: 0.5047 - accuracy: 0.8384 - val_loss: 0.3801 - val_accuracy: 0.9138\n",
            "Epoch 56/100\n",
            "15/15 [==============================] - 0s 6ms/step - loss: 0.4945 - accuracy: 0.8472 - val_loss: 0.3780 - val_accuracy: 0.9138\n",
            "Epoch 57/100\n",
            "15/15 [==============================] - 0s 5ms/step - loss: 0.4997 - accuracy: 0.8690 - val_loss: 0.3791 - val_accuracy: 0.9138\n",
            "Epoch 58/100\n",
            "15/15 [==============================] - 0s 7ms/step - loss: 0.4724 - accuracy: 0.8646 - val_loss: 0.3794 - val_accuracy: 0.8966\n",
            "Epoch 59/100\n",
            "15/15 [==============================] - 0s 6ms/step - loss: 0.4728 - accuracy: 0.8646 - val_loss: 0.3783 - val_accuracy: 0.8966\n",
            "Epoch 60/100\n",
            "15/15 [==============================] - 0s 7ms/step - loss: 0.5018 - accuracy: 0.8515 - val_loss: 0.3771 - val_accuracy: 0.8966\n",
            "Epoch 61/100\n",
            "15/15 [==============================] - 0s 7ms/step - loss: 0.4610 - accuracy: 0.8603 - val_loss: 0.3761 - val_accuracy: 0.8966\n",
            "Epoch 62/100\n",
            "15/15 [==============================] - 0s 7ms/step - loss: 0.4605 - accuracy: 0.8428 - val_loss: 0.3727 - val_accuracy: 0.8966\n",
            "Epoch 63/100\n",
            "15/15 [==============================] - 0s 8ms/step - loss: 0.4975 - accuracy: 0.8341 - val_loss: 0.3717 - val_accuracy: 0.8966\n",
            "Epoch 64/100\n",
            "15/15 [==============================] - 0s 6ms/step - loss: 0.4871 - accuracy: 0.8559 - val_loss: 0.3726 - val_accuracy: 0.8966\n",
            "Epoch 65/100\n",
            "15/15 [==============================] - 0s 6ms/step - loss: 0.4864 - accuracy: 0.8559 - val_loss: 0.3717 - val_accuracy: 0.8966\n",
            "Epoch 66/100\n",
            "15/15 [==============================] - 0s 5ms/step - loss: 0.4642 - accuracy: 0.8690 - val_loss: 0.3716 - val_accuracy: 0.8966\n",
            "Epoch 67/100\n",
            "15/15 [==============================] - 0s 6ms/step - loss: 0.4379 - accuracy: 0.8777 - val_loss: 0.3690 - val_accuracy: 0.8966\n",
            "Epoch 68/100\n",
            "15/15 [==============================] - 0s 5ms/step - loss: 0.4747 - accuracy: 0.8690 - val_loss: 0.3670 - val_accuracy: 0.8966\n",
            "Epoch 69/100\n",
            "15/15 [==============================] - 0s 6ms/step - loss: 0.4764 - accuracy: 0.8603 - val_loss: 0.3663 - val_accuracy: 0.8966\n",
            "Epoch 70/100\n",
            "15/15 [==============================] - 0s 7ms/step - loss: 0.4498 - accuracy: 0.8690 - val_loss: 0.3669 - val_accuracy: 0.8966\n",
            "Epoch 71/100\n",
            "15/15 [==============================] - 0s 6ms/step - loss: 0.4382 - accuracy: 0.8821 - val_loss: 0.3656 - val_accuracy: 0.8966\n",
            "Epoch 72/100\n",
            "15/15 [==============================] - 0s 6ms/step - loss: 0.4722 - accuracy: 0.8341 - val_loss: 0.3652 - val_accuracy: 0.8966\n",
            "Epoch 73/100\n",
            "15/15 [==============================] - 0s 7ms/step - loss: 0.4695 - accuracy: 0.8734 - val_loss: 0.3627 - val_accuracy: 0.8966\n",
            "Epoch 74/100\n",
            "15/15 [==============================] - 0s 8ms/step - loss: 0.4284 - accuracy: 0.8908 - val_loss: 0.3649 - val_accuracy: 0.8966\n",
            "Epoch 75/100\n",
            "15/15 [==============================] - 0s 7ms/step - loss: 0.4331 - accuracy: 0.8690 - val_loss: 0.3619 - val_accuracy: 0.8966\n",
            "Epoch 76/100\n",
            "15/15 [==============================] - 0s 6ms/step - loss: 0.4467 - accuracy: 0.8690 - val_loss: 0.3607 - val_accuracy: 0.8966\n",
            "Epoch 77/100\n",
            "15/15 [==============================] - 0s 6ms/step - loss: 0.4478 - accuracy: 0.8865 - val_loss: 0.3570 - val_accuracy: 0.8966\n",
            "Epoch 78/100\n",
            "15/15 [==============================] - 0s 6ms/step - loss: 0.4417 - accuracy: 0.8646 - val_loss: 0.3551 - val_accuracy: 0.8966\n",
            "Epoch 79/100\n",
            "15/15 [==============================] - 0s 7ms/step - loss: 0.4263 - accuracy: 0.8865 - val_loss: 0.3552 - val_accuracy: 0.8966\n",
            "Epoch 80/100\n",
            "15/15 [==============================] - 0s 7ms/step - loss: 0.4562 - accuracy: 0.8690 - val_loss: 0.3567 - val_accuracy: 0.8966\n",
            "Epoch 81/100\n",
            "15/15 [==============================] - 0s 6ms/step - loss: 0.4512 - accuracy: 0.8908 - val_loss: 0.3557 - val_accuracy: 0.8966\n",
            "Epoch 82/100\n",
            "15/15 [==============================] - 0s 6ms/step - loss: 0.4441 - accuracy: 0.8734 - val_loss: 0.3545 - val_accuracy: 0.8966\n",
            "Epoch 83/100\n",
            "15/15 [==============================] - 0s 7ms/step - loss: 0.4478 - accuracy: 0.8603 - val_loss: 0.3562 - val_accuracy: 0.8966\n",
            "Epoch 84/100\n",
            "15/15 [==============================] - 0s 8ms/step - loss: 0.4532 - accuracy: 0.8690 - val_loss: 0.3558 - val_accuracy: 0.8966\n",
            "Epoch 85/100\n",
            "15/15 [==============================] - 0s 5ms/step - loss: 0.4400 - accuracy: 0.8777 - val_loss: 0.3560 - val_accuracy: 0.8966\n",
            "Epoch 86/100\n",
            "15/15 [==============================] - 0s 5ms/step - loss: 0.4274 - accuracy: 0.8646 - val_loss: 0.3549 - val_accuracy: 0.8966\n",
            "Epoch 87/100\n",
            "15/15 [==============================] - 0s 6ms/step - loss: 0.4129 - accuracy: 0.8777 - val_loss: 0.3541 - val_accuracy: 0.8966\n",
            "Epoch 88/100\n",
            "15/15 [==============================] - 0s 6ms/step - loss: 0.4609 - accuracy: 0.8646 - val_loss: 0.3513 - val_accuracy: 0.8966\n",
            "Epoch 89/100\n",
            "15/15 [==============================] - 0s 6ms/step - loss: 0.4508 - accuracy: 0.8646 - val_loss: 0.3500 - val_accuracy: 0.8966\n",
            "Epoch 90/100\n",
            "15/15 [==============================] - 0s 7ms/step - loss: 0.4570 - accuracy: 0.8384 - val_loss: 0.3495 - val_accuracy: 0.8966\n",
            "Epoch 91/100\n",
            "15/15 [==============================] - 0s 7ms/step - loss: 0.4225 - accuracy: 0.8865 - val_loss: 0.3489 - val_accuracy: 0.8966\n",
            "Epoch 92/100\n",
            "15/15 [==============================] - 0s 7ms/step - loss: 0.4303 - accuracy: 0.8777 - val_loss: 0.3475 - val_accuracy: 0.8966\n",
            "Epoch 93/100\n",
            "15/15 [==============================] - 0s 7ms/step - loss: 0.4426 - accuracy: 0.8515 - val_loss: 0.3469 - val_accuracy: 0.8966\n",
            "Epoch 94/100\n",
            "15/15 [==============================] - 0s 7ms/step - loss: 0.4726 - accuracy: 0.8734 - val_loss: 0.3488 - val_accuracy: 0.8966\n",
            "Epoch 95/100\n",
            "15/15 [==============================] - 0s 5ms/step - loss: 0.4388 - accuracy: 0.8821 - val_loss: 0.3540 - val_accuracy: 0.8966\n",
            "Epoch 96/100\n",
            "15/15 [==============================] - 0s 5ms/step - loss: 0.4335 - accuracy: 0.8821 - val_loss: 0.3542 - val_accuracy: 0.8966\n",
            "Epoch 97/100\n",
            "15/15 [==============================] - 0s 6ms/step - loss: 0.4442 - accuracy: 0.8777 - val_loss: 0.3545 - val_accuracy: 0.8966\n",
            "Epoch 98/100\n",
            "15/15 [==============================] - 0s 6ms/step - loss: 0.4361 - accuracy: 0.8690 - val_loss: 0.3534 - val_accuracy: 0.8966\n",
            "Epoch 99/100\n",
            "15/15 [==============================] - 0s 6ms/step - loss: 0.4049 - accuracy: 0.8865 - val_loss: 0.3525 - val_accuracy: 0.8966\n",
            "Epoch 100/100\n",
            "15/15 [==============================] - 0s 6ms/step - loss: 0.3989 - accuracy: 0.8734 - val_loss: 0.3510 - val_accuracy: 0.8966\n",
            "2/2 [==============================] - 0s 4ms/step\n",
            "Test Accuracy: 0.896551724137931\n"
          ]
        },
        {
          "output_type": "display_data",
          "data": {
            "text/plain": [
              "<Figure size 1000x600 with 1 Axes>"
            ],
            "image/png": "[encoded data removed]"
          },
          "metadata": {}
        }
      ]
    },
    {
      "cell_type": "code",
      "execution_count": null,
      "metadata": {
        "colab": {
          "base_uri": "https://localhost:8080/"
        },
        "id": "DzlN6eOyJiXl",
        "outputId": "037a99d0-2622-43c3-dbe6-6d2739d918fe"
      },
      "outputs": [
        {
          "output_type": "stream",
          "name": "stdout",
          "text": [
            "   age  sex  cp  trestbps  fbs  restecg  thalach  exang  oldpeak  slope  ca  \\\n",
            "0   52    1   0       125    0        1      168      0      1.0      2   2   \n",
            "1   53    1   0       140    1        0      155      1      3.1      0   0   \n",
            "2   70    1   0       145    0        1      125      1      2.6      0   0   \n",
            "3   61    1   0       148    0        1      161      0      0.0      2   1   \n",
            "4   62    0   0       138    1        1      106      0      1.9      1   3   \n",
            "\n",
            "   thal  target  \n",
            "0     3       0  \n",
            "1     3       0  \n",
            "2     3       0  \n",
            "3     3       0  \n",
            "4     2       0  \n",
            "Missing values count per column:\n",
            "age         0\n",
            "sex         0\n",
            "cp          0\n",
            "trestbps    0\n",
            "fbs         0\n",
            "restecg     0\n",
            "thalach     0\n",
            "exang       0\n",
            "oldpeak     0\n",
            "slope       0\n",
            "ca          0\n",
            "thal        0\n",
            "target      0\n",
            "dtype: int64\n"
          ]
        }
      ],
      "source": [
        "# @title **Dropping Chol**\n",
        "cdf = df.drop(columns=['chol'])\n",
        "print(cdf.head())\n",
        "\n",
        "# Check for missing values in the DataFrame\n",
        "missing_values = cdf.isnull()\n",
        "\n",
        "# Count the number of missing values in each column\n",
        "missing_values_count = missing_values.sum()\n",
        "\n",
        "# Print the number of missing values in each column\n",
        "print(\"Missing values count per column:\")\n",
        "print(missing_values_count)\n"
      ]
    },
    {
      "cell_type": "code",
      "execution_count": null,
      "metadata": {
        "colab": {
          "base_uri": "https://localhost:8080/"
        },
        "id": "WXwMwM6IJwci",
        "outputId": "cb835922-33d5-41b8-82b2-6d9ae6ff4044"
      },
      "outputs": [
        {
          "output_type": "stream",
          "name": "stdout",
          "text": [
            "KNN\n",
            "Accuracy: 0.66\n",
            "Classification Report:\n",
            "               precision    recall  f1-score   support\n",
            "\n",
            "           0       0.62      0.71      0.67        28\n",
            "           1       0.69      0.60      0.64        30\n",
            "\n",
            "    accuracy                           0.66        58\n",
            "   macro avg       0.66      0.66      0.65        58\n",
            "weighted avg       0.66      0.66      0.65        58\n",
            "\n",
            "Confusion Matrix:\n",
            "[[20  8]\n",
            " [12 18]]\n",
            "Cross-validation scores: [0.67241379 0.5862069  0.77192982 0.66666667 0.66666667]\n",
            "Mean cross-validation score: 0.6727767695099818\n"
          ]
        }
      ],
      "source": [
        "func_KNN(cdf)"
      ]
    },
    {
      "cell_type": "code",
      "execution_count": null,
      "metadata": {
        "colab": {
          "base_uri": "https://localhost:8080/"
        },
        "id": "D1c5_TosJ4lY",
        "outputId": "85c97b7b-1409-46db-db93-808469274b06"
      },
      "outputs": [
        {
          "output_type": "stream",
          "name": "stdout",
          "text": [
            "SVM\n",
            "Accuracy: 0.90\n",
            "Classification Report:\n",
            "              precision    recall  f1-score   support\n",
            "\n",
            "           0       0.96      0.82      0.88        28\n",
            "           1       0.85      0.97      0.91        30\n",
            "\n",
            "    accuracy                           0.90        58\n",
            "   macro avg       0.91      0.89      0.90        58\n",
            "weighted avg       0.90      0.90      0.90        58\n",
            "\n",
            "Confusion Matrix:\n",
            "[[23  5]\n",
            " [ 1 29]]\n",
            "Cross-validation scores: [0.87931034 0.84482759 0.9122807  0.78947368 0.78947368]\n",
            "Mean cross-validation score: 0.8430732002419843\n"
          ]
        }
      ],
      "source": [
        "func_SVM(cdf)"
      ]
    },
    {
      "cell_type": "code",
      "execution_count": null,
      "metadata": {
        "colab": {
          "base_uri": "https://localhost:8080/"
        },
        "id": "K7N-N6KNJ8Px",
        "outputId": "8689939a-6f7f-4595-afaa-6a41af899658"
      },
      "outputs": [
        {
          "output_type": "stream",
          "name": "stdout",
          "text": [
            "Random Forest\n",
            "Accuracy: 0.86\n",
            "Classification Report:\n",
            "              precision    recall  f1-score   support\n",
            "\n",
            "           0       0.86      0.86      0.86        28\n",
            "           1       0.87      0.87      0.87        30\n",
            "\n",
            "    accuracy                           0.86        58\n",
            "   macro avg       0.86      0.86      0.86        58\n",
            "weighted avg       0.86      0.86      0.86        58\n",
            "\n",
            "Confusion Matrix:\n",
            "[[24  4]\n",
            " [ 4 26]]\n",
            "Cross-validation scores: [0.87931034 0.82758621 0.87719298 0.78947368 0.77192982]\n",
            "Mean cross-validation score: 0.8290986085904416\n"
          ]
        }
      ],
      "source": [
        "func_Random_Forest(cdf)"
      ]
    },
    {
      "cell_type": "code",
      "execution_count": null,
      "metadata": {
        "colab": {
          "base_uri": "https://localhost:8080/"
        },
        "id": "iuhpdOFdKCng",
        "outputId": "e55edad3-0ffd-4141-e423-5ca97aa2b3ad"
      },
      "outputs": [
        {
          "output_type": "stream",
          "name": "stdout",
          "text": [
            "Decision Tree\n",
            "Accuracy: 0.76\n",
            "Classification Report:\n",
            "              precision    recall  f1-score   support\n",
            "\n",
            "           0       0.71      0.86      0.77        28\n",
            "           1       0.83      0.67      0.74        30\n",
            "\n",
            "    accuracy                           0.76        58\n",
            "   macro avg       0.77      0.76      0.76        58\n",
            "weighted avg       0.77      0.76      0.76        58\n",
            "\n",
            "Confusion Matrix:\n",
            "[[24  4]\n",
            " [10 20]]\n",
            "Cross-validation scores: [0.77586207 0.67241379 0.75438596 0.77192982 0.8245614 ]\n",
            "Mean cross-validation score: 0.7598306110102843\n"
          ]
        }
      ],
      "source": [
        "func_Decision_Tree(cdf)"
      ]
    },
    {
      "cell_type": "code",
      "execution_count": null,
      "metadata": {
        "colab": {
          "base_uri": "https://localhost:8080/"
        },
        "id": "XKuhn9hQKL49",
        "outputId": "0cf40da0-f2a4-4ca3-f91c-2b3249bcf7ad"
      },
      "outputs": [
        {
          "output_type": "stream",
          "name": "stdout",
          "text": [
            "Linear Regression\n",
            "Mean Squared Error (MSE): 0.08829665243190238\n",
            "Root Mean Squared Error (RMSE): 0.29714752637688635\n",
            "Mean Absolute Error (MAE): 0.23538528305722184\n",
            "R-squared (R2): 0.6463929300227147\n",
            "Cross-validation scores: [-0.15411029 -0.1134243  -0.09306524 -0.13368435 -0.16251239]\n",
            "Mean cross-validation score: -0.13135931463140055\n"
          ]
        }
      ],
      "source": [
        "func_Linear_Regression(cdf)"
      ]
    },
    {
      "cell_type": "code",
      "execution_count": null,
      "metadata": {
        "colab": {
          "base_uri": "https://localhost:8080/"
        },
        "id": "Ux03NQLYKHLC",
        "outputId": "729ab7fd-bf29-47be-cc7b-156f0fcbfb3a"
      },
      "outputs": [
        {
          "output_type": "stream",
          "name": "stdout",
          "text": [
            "Logistic Regression\n",
            "Mean Squared Error (MSE): 0.10344827586206896\n",
            "Root Mean Squared Error (RMSE): 0.32163376045133846\n",
            "Mean Absolute Error (MAE): 0.10344827586206896\n",
            "R-squared (R2): 0.5857142857142856\n",
            "Cross-validation scores: [0.86206897 0.84482759 0.9122807  0.77192982 0.8245614 ]\n",
            "Mean cross-validation score: 0.8431336963097399\n"
          ]
        }
      ],
      "source": [
        "func_Logistic_Regression(cdf)"
      ]
    },
    {
      "cell_type": "code",
      "execution_count": null,
      "metadata": {
        "colab": {
          "base_uri": "https://localhost:8080/"
        },
        "id": "yuA24IPKKTPo",
        "outputId": "150bc716-5295-46f1-8c74-54131d76fdc7"
      },
      "outputs": [
        {
          "output_type": "stream",
          "name": "stdout",
          "text": [
            "XGBoost\n",
            "Accuracy: 0.8448275862068966\n",
            "Classification Report:\n",
            "              precision    recall  f1-score   support\n",
            "\n",
            "           0       0.83      0.86      0.84        28\n",
            "           1       0.86      0.83      0.85        30\n",
            "\n",
            "    accuracy                           0.84        58\n",
            "   macro avg       0.84      0.85      0.84        58\n",
            "weighted avg       0.85      0.84      0.84        58\n",
            "\n",
            "Cross-validation scores: [0.84482759 0.84482759 0.87719298 0.73684211 0.77192982]\n",
            "Mean cross-validation score: 0.8151240169388989\n"
          ]
        }
      ],
      "source": [
        "func_XGBoost(cdf)"
      ]
    },
    {
      "cell_type": "code",
      "source": [
        "func_FNN(cdf)"
      ],
      "metadata": {
        "colab": {
          "base_uri": "https://localhost:8080/",
          "height": 1000
        },
        "id": "oDH6ykEV-tag",
        "outputId": "214ee478-0dad-48fb-a10c-21057dd8d9ea"
      },
      "execution_count": null,
      "outputs": [
        {
          "output_type": "stream",
          "name": "stdout",
          "text": [
            "Epoch 1/100\n",
            "15/15 [==============================] - 2s 18ms/step - loss: 1.5482 - accuracy: 0.4672 - val_loss: 1.3277 - val_accuracy: 0.4138\n",
            "Epoch 2/100\n",
            "15/15 [==============================] - 0s 6ms/step - loss: 1.3559 - accuracy: 0.4498 - val_loss: 1.2377 - val_accuracy: 0.4483\n",
            "Epoch 3/100\n",
            "15/15 [==============================] - 0s 6ms/step - loss: 1.2401 - accuracy: 0.5633 - val_loss: 1.1832 - val_accuracy: 0.5000\n",
            "Epoch 4/100\n",
            "15/15 [==============================] - 0s 7ms/step - loss: 1.2088 - accuracy: 0.5546 - val_loss: 1.1440 - val_accuracy: 0.5517\n",
            "Epoch 5/100\n",
            "15/15 [==============================] - 0s 5ms/step - loss: 1.1937 - accuracy: 0.5939 - val_loss: 1.1160 - val_accuracy: 0.6034\n",
            "Epoch 6/100\n",
            "15/15 [==============================] - 0s 7ms/step - loss: 1.1319 - accuracy: 0.5721 - val_loss: 1.0933 - val_accuracy: 0.6724\n",
            "Epoch 7/100\n",
            "15/15 [==============================] - 0s 6ms/step - loss: 1.1362 - accuracy: 0.5546 - val_loss: 1.0722 - val_accuracy: 0.7069\n",
            "Epoch 8/100\n",
            "15/15 [==============================] - 0s 7ms/step - loss: 1.1279 - accuracy: 0.5764 - val_loss: 1.0523 - val_accuracy: 0.7241\n",
            "Epoch 9/100\n",
            "15/15 [==============================] - 0s 7ms/step - loss: 1.0621 - accuracy: 0.6288 - val_loss: 1.0353 - val_accuracy: 0.7241\n",
            "Epoch 10/100\n",
            "15/15 [==============================] - 0s 8ms/step - loss: 1.0692 - accuracy: 0.6245 - val_loss: 1.0174 - val_accuracy: 0.7759\n",
            "Epoch 11/100\n",
            "15/15 [==============================] - 0s 6ms/step - loss: 1.0500 - accuracy: 0.6070 - val_loss: 0.9996 - val_accuracy: 0.7931\n",
            "Epoch 12/100\n",
            "15/15 [==============================] - 0s 7ms/step - loss: 1.0262 - accuracy: 0.6550 - val_loss: 0.9827 - val_accuracy: 0.8103\n",
            "Epoch 13/100\n",
            "15/15 [==============================] - 0s 6ms/step - loss: 1.0236 - accuracy: 0.6507 - val_loss: 0.9660 - val_accuracy: 0.8276\n",
            "Epoch 14/100\n",
            "15/15 [==============================] - 0s 7ms/step - loss: 0.9796 - accuracy: 0.6725 - val_loss: 0.9452 - val_accuracy: 0.8448\n",
            "Epoch 15/100\n",
            "15/15 [==============================] - 0s 6ms/step - loss: 0.9870 - accuracy: 0.6638 - val_loss: 0.9246 - val_accuracy: 0.8448\n",
            "Epoch 16/100\n",
            "15/15 [==============================] - 0s 6ms/step - loss: 0.9385 - accuracy: 0.7031 - val_loss: 0.9052 - val_accuracy: 0.8621\n",
            "Epoch 17/100\n",
            "15/15 [==============================] - 0s 7ms/step - loss: 0.9310 - accuracy: 0.7162 - val_loss: 0.8866 - val_accuracy: 0.8621\n",
            "Epoch 18/100\n",
            "15/15 [==============================] - 0s 7ms/step - loss: 0.9502 - accuracy: 0.6812 - val_loss: 0.8660 - val_accuracy: 0.8448\n",
            "Epoch 19/100\n",
            "15/15 [==============================] - 0s 7ms/step - loss: 0.9296 - accuracy: 0.7249 - val_loss: 0.8454 - val_accuracy: 0.8448\n",
            "Epoch 20/100\n",
            "15/15 [==============================] - 0s 8ms/step - loss: 0.9051 - accuracy: 0.7118 - val_loss: 0.8253 - val_accuracy: 0.8448\n",
            "Epoch 21/100\n",
            "15/15 [==============================] - 0s 7ms/step - loss: 0.8737 - accuracy: 0.7074 - val_loss: 0.8052 - val_accuracy: 0.8621\n",
            "Epoch 22/100\n",
            "15/15 [==============================] - 0s 6ms/step - loss: 0.8570 - accuracy: 0.7162 - val_loss: 0.7901 - val_accuracy: 0.8621\n",
            "Epoch 23/100\n",
            "15/15 [==============================] - 0s 6ms/step - loss: 0.8397 - accuracy: 0.7555 - val_loss: 0.7667 - val_accuracy: 0.8621\n",
            "Epoch 24/100\n",
            "15/15 [==============================] - 0s 7ms/step - loss: 0.8430 - accuracy: 0.7162 - val_loss: 0.7491 - val_accuracy: 0.8621\n",
            "Epoch 25/100\n",
            "15/15 [==============================] - 0s 6ms/step - loss: 0.8283 - accuracy: 0.7686 - val_loss: 0.7272 - val_accuracy: 0.8621\n",
            "Epoch 26/100\n",
            "15/15 [==============================] - 0s 6ms/step - loss: 0.8231 - accuracy: 0.7467 - val_loss: 0.7014 - val_accuracy: 0.8621\n",
            "Epoch 27/100\n",
            "15/15 [==============================] - 0s 6ms/step - loss: 0.7761 - accuracy: 0.7555 - val_loss: 0.6815 - val_accuracy: 0.8793\n",
            "Epoch 28/100\n",
            "15/15 [==============================] - 0s 7ms/step - loss: 0.8107 - accuracy: 0.7293 - val_loss: 0.6677 - val_accuracy: 0.8793\n",
            "Epoch 29/100\n",
            "15/15 [==============================] - 0s 8ms/step - loss: 0.7996 - accuracy: 0.7380 - val_loss: 0.6584 - val_accuracy: 0.8793\n",
            "Epoch 30/100\n",
            "15/15 [==============================] - 0s 7ms/step - loss: 0.7745 - accuracy: 0.7424 - val_loss: 0.6454 - val_accuracy: 0.8793\n",
            "Epoch 31/100\n",
            "15/15 [==============================] - 0s 7ms/step - loss: 0.7208 - accuracy: 0.8210 - val_loss: 0.6326 - val_accuracy: 0.8793\n",
            "Epoch 32/100\n",
            "15/15 [==============================] - 0s 6ms/step - loss: 0.7139 - accuracy: 0.7686 - val_loss: 0.6135 - val_accuracy: 0.8793\n",
            "Epoch 33/100\n",
            "15/15 [==============================] - 0s 6ms/step - loss: 0.7428 - accuracy: 0.7817 - val_loss: 0.6032 - val_accuracy: 0.8793\n",
            "Epoch 34/100\n",
            "15/15 [==============================] - 0s 6ms/step - loss: 0.7205 - accuracy: 0.7860 - val_loss: 0.5909 - val_accuracy: 0.8793\n",
            "Epoch 35/100\n",
            "15/15 [==============================] - 0s 7ms/step - loss: 0.7088 - accuracy: 0.8166 - val_loss: 0.5774 - val_accuracy: 0.8793\n",
            "Epoch 36/100\n",
            "15/15 [==============================] - 0s 6ms/step - loss: 0.7147 - accuracy: 0.7904 - val_loss: 0.5648 - val_accuracy: 0.8793\n",
            "Epoch 37/100\n",
            "15/15 [==============================] - 0s 6ms/step - loss: 0.6858 - accuracy: 0.8079 - val_loss: 0.5550 - val_accuracy: 0.8793\n",
            "Epoch 38/100\n",
            "15/15 [==============================] - 0s 6ms/step - loss: 0.6718 - accuracy: 0.8122 - val_loss: 0.5418 - val_accuracy: 0.8793\n",
            "Epoch 39/100\n",
            "15/15 [==============================] - 0s 7ms/step - loss: 0.6757 - accuracy: 0.8253 - val_loss: 0.5299 - val_accuracy: 0.8793\n",
            "Epoch 40/100\n",
            "15/15 [==============================] - 0s 7ms/step - loss: 0.6630 - accuracy: 0.8079 - val_loss: 0.5221 - val_accuracy: 0.8793\n",
            "Epoch 41/100\n",
            "15/15 [==============================] - 0s 9ms/step - loss: 0.6612 - accuracy: 0.7991 - val_loss: 0.5094 - val_accuracy: 0.8793\n",
            "Epoch 42/100\n",
            "15/15 [==============================] - 0s 9ms/step - loss: 0.6524 - accuracy: 0.7904 - val_loss: 0.5062 - val_accuracy: 0.8793\n",
            "Epoch 43/100\n",
            "15/15 [==============================] - 0s 9ms/step - loss: 0.6314 - accuracy: 0.8035 - val_loss: 0.4993 - val_accuracy: 0.8793\n",
            "Epoch 44/100\n",
            "15/15 [==============================] - 0s 9ms/step - loss: 0.6324 - accuracy: 0.8210 - val_loss: 0.4961 - val_accuracy: 0.8621\n",
            "Epoch 45/100\n",
            "15/15 [==============================] - 0s 9ms/step - loss: 0.6094 - accuracy: 0.8253 - val_loss: 0.4900 - val_accuracy: 0.8793\n",
            "Epoch 46/100\n",
            "15/15 [==============================] - 0s 8ms/step - loss: 0.5902 - accuracy: 0.8515 - val_loss: 0.4813 - val_accuracy: 0.8793\n",
            "Epoch 47/100\n",
            "15/15 [==============================] - 0s 9ms/step - loss: 0.6044 - accuracy: 0.8472 - val_loss: 0.4732 - val_accuracy: 0.8793\n",
            "Epoch 48/100\n",
            "15/15 [==============================] - 0s 9ms/step - loss: 0.5760 - accuracy: 0.8384 - val_loss: 0.4691 - val_accuracy: 0.8793\n",
            "Epoch 49/100\n",
            "15/15 [==============================] - 0s 9ms/step - loss: 0.5865 - accuracy: 0.8428 - val_loss: 0.4622 - val_accuracy: 0.8793\n",
            "Epoch 50/100\n",
            "15/15 [==============================] - 0s 9ms/step - loss: 0.6026 - accuracy: 0.8297 - val_loss: 0.4570 - val_accuracy: 0.8793\n",
            "Epoch 51/100\n",
            "15/15 [==============================] - 0s 9ms/step - loss: 0.5742 - accuracy: 0.8690 - val_loss: 0.4530 - val_accuracy: 0.8793\n",
            "Epoch 52/100\n",
            "15/15 [==============================] - 0s 9ms/step - loss: 0.5633 - accuracy: 0.8472 - val_loss: 0.4488 - val_accuracy: 0.8793\n",
            "Epoch 53/100\n",
            "15/15 [==============================] - 0s 9ms/step - loss: 0.6140 - accuracy: 0.8122 - val_loss: 0.4452 - val_accuracy: 0.8793\n",
            "Epoch 54/100\n",
            "15/15 [==============================] - 0s 12ms/step - loss: 0.5758 - accuracy: 0.8428 - val_loss: 0.4430 - val_accuracy: 0.8793\n",
            "Epoch 55/100\n",
            "15/15 [==============================] - 0s 10ms/step - loss: 0.5772 - accuracy: 0.8166 - val_loss: 0.4399 - val_accuracy: 0.8793\n",
            "Epoch 56/100\n",
            "15/15 [==============================] - 0s 10ms/step - loss: 0.5251 - accuracy: 0.8646 - val_loss: 0.4341 - val_accuracy: 0.8793\n",
            "Epoch 57/100\n",
            "15/15 [==============================] - 0s 10ms/step - loss: 0.5518 - accuracy: 0.8603 - val_loss: 0.4267 - val_accuracy: 0.8793\n",
            "Epoch 58/100\n",
            "15/15 [==============================] - 0s 10ms/step - loss: 0.5299 - accuracy: 0.8428 - val_loss: 0.4224 - val_accuracy: 0.8793\n",
            "Epoch 59/100\n",
            "15/15 [==============================] - 0s 9ms/step - loss: 0.4979 - accuracy: 0.8384 - val_loss: 0.4180 - val_accuracy: 0.8793\n",
            "Epoch 60/100\n",
            "15/15 [==============================] - 0s 10ms/step - loss: 0.5404 - accuracy: 0.8646 - val_loss: 0.4144 - val_accuracy: 0.8793\n",
            "Epoch 61/100\n",
            "15/15 [==============================] - 0s 10ms/step - loss: 0.5396 - accuracy: 0.8341 - val_loss: 0.4119 - val_accuracy: 0.8793\n",
            "Epoch 62/100\n",
            "15/15 [==============================] - 0s 9ms/step - loss: 0.5430 - accuracy: 0.8603 - val_loss: 0.4100 - val_accuracy: 0.8793\n",
            "Epoch 63/100\n",
            "15/15 [==============================] - 0s 11ms/step - loss: 0.5368 - accuracy: 0.8515 - val_loss: 0.4081 - val_accuracy: 0.8793\n",
            "Epoch 64/100\n",
            "15/15 [==============================] - 0s 9ms/step - loss: 0.5677 - accuracy: 0.8428 - val_loss: 0.4073 - val_accuracy: 0.8793\n",
            "Epoch 65/100\n",
            "15/15 [==============================] - 0s 10ms/step - loss: 0.5277 - accuracy: 0.8603 - val_loss: 0.4060 - val_accuracy: 0.8793\n",
            "Epoch 66/100\n",
            "15/15 [==============================] - 0s 9ms/step - loss: 0.5307 - accuracy: 0.8472 - val_loss: 0.4024 - val_accuracy: 0.8793\n",
            "Epoch 67/100\n",
            "15/15 [==============================] - 0s 11ms/step - loss: 0.5208 - accuracy: 0.8166 - val_loss: 0.4001 - val_accuracy: 0.8793\n",
            "Epoch 68/100\n",
            "15/15 [==============================] - 0s 6ms/step - loss: 0.5224 - accuracy: 0.8777 - val_loss: 0.3981 - val_accuracy: 0.8793\n",
            "Epoch 69/100\n",
            "15/15 [==============================] - 0s 7ms/step - loss: 0.5243 - accuracy: 0.8515 - val_loss: 0.3951 - val_accuracy: 0.8793\n",
            "Epoch 70/100\n",
            "15/15 [==============================] - 0s 6ms/step - loss: 0.5259 - accuracy: 0.8515 - val_loss: 0.3929 - val_accuracy: 0.8793\n",
            "Epoch 71/100\n",
            "15/15 [==============================] - 0s 7ms/step - loss: 0.4644 - accuracy: 0.8996 - val_loss: 0.3906 - val_accuracy: 0.8966\n",
            "Epoch 72/100\n",
            "15/15 [==============================] - 0s 5ms/step - loss: 0.4791 - accuracy: 0.8603 - val_loss: 0.3888 - val_accuracy: 0.8966\n",
            "Epoch 73/100\n",
            "15/15 [==============================] - 0s 7ms/step - loss: 0.4723 - accuracy: 0.8865 - val_loss: 0.3834 - val_accuracy: 0.8793\n",
            "Epoch 74/100\n",
            "15/15 [==============================] - 0s 7ms/step - loss: 0.4786 - accuracy: 0.8559 - val_loss: 0.3831 - val_accuracy: 0.8793\n",
            "Epoch 75/100\n",
            "15/15 [==============================] - 0s 6ms/step - loss: 0.4538 - accuracy: 0.8865 - val_loss: 0.3822 - val_accuracy: 0.8793\n",
            "Epoch 76/100\n",
            "15/15 [==============================] - 0s 7ms/step - loss: 0.5281 - accuracy: 0.8515 - val_loss: 0.3807 - val_accuracy: 0.8793\n",
            "Epoch 77/100\n",
            "15/15 [==============================] - 0s 7ms/step - loss: 0.4893 - accuracy: 0.8734 - val_loss: 0.3826 - val_accuracy: 0.8793\n",
            "Epoch 78/100\n",
            "15/15 [==============================] - 0s 7ms/step - loss: 0.4895 - accuracy: 0.8646 - val_loss: 0.3823 - val_accuracy: 0.8793\n",
            "Epoch 79/100\n",
            "15/15 [==============================] - 0s 5ms/step - loss: 0.5393 - accuracy: 0.8166 - val_loss: 0.3828 - val_accuracy: 0.8793\n",
            "Epoch 80/100\n",
            "15/15 [==============================] - 0s 5ms/step - loss: 0.4964 - accuracy: 0.8734 - val_loss: 0.3819 - val_accuracy: 0.8793\n",
            "Epoch 81/100\n",
            "15/15 [==============================] - 0s 7ms/step - loss: 0.4925 - accuracy: 0.8690 - val_loss: 0.3813 - val_accuracy: 0.8793\n",
            "Epoch 82/100\n",
            "15/15 [==============================] - 0s 7ms/step - loss: 0.4565 - accuracy: 0.8821 - val_loss: 0.3785 - val_accuracy: 0.8793\n",
            "Epoch 83/100\n",
            "15/15 [==============================] - 0s 6ms/step - loss: 0.4618 - accuracy: 0.8646 - val_loss: 0.3736 - val_accuracy: 0.8793\n",
            "Epoch 84/100\n",
            "15/15 [==============================] - 0s 7ms/step - loss: 0.4937 - accuracy: 0.8690 - val_loss: 0.3731 - val_accuracy: 0.8793\n",
            "Epoch 85/100\n",
            "15/15 [==============================] - 0s 6ms/step - loss: 0.4896 - accuracy: 0.8690 - val_loss: 0.3755 - val_accuracy: 0.8793\n",
            "Epoch 86/100\n",
            "15/15 [==============================] - 0s 15ms/step - loss: 0.4466 - accuracy: 0.8734 - val_loss: 0.3758 - val_accuracy: 0.8793\n",
            "Epoch 87/100\n",
            "15/15 [==============================] - 0s 19ms/step - loss: 0.4390 - accuracy: 0.8821 - val_loss: 0.3739 - val_accuracy: 0.8793\n",
            "Epoch 88/100\n",
            "15/15 [==============================] - 0s 15ms/step - loss: 0.4811 - accuracy: 0.8777 - val_loss: 0.3735 - val_accuracy: 0.8966\n",
            "Epoch 89/100\n",
            "15/15 [==============================] - 0s 11ms/step - loss: 0.4664 - accuracy: 0.8559 - val_loss: 0.3720 - val_accuracy: 0.8966\n",
            "Epoch 90/100\n",
            "15/15 [==============================] - 0s 7ms/step - loss: 0.4680 - accuracy: 0.8690 - val_loss: 0.3720 - val_accuracy: 0.8966\n",
            "Epoch 91/100\n",
            "15/15 [==============================] - 0s 8ms/step - loss: 0.4593 - accuracy: 0.8646 - val_loss: 0.3737 - val_accuracy: 0.8966\n",
            "Epoch 92/100\n",
            "15/15 [==============================] - 0s 5ms/step - loss: 0.4741 - accuracy: 0.8603 - val_loss: 0.3723 - val_accuracy: 0.8966\n",
            "Epoch 93/100\n",
            "15/15 [==============================] - 0s 7ms/step - loss: 0.4414 - accuracy: 0.9039 - val_loss: 0.3695 - val_accuracy: 0.8966\n",
            "Epoch 94/100\n",
            "15/15 [==============================] - 0s 15ms/step - loss: 0.4404 - accuracy: 0.8952 - val_loss: 0.3683 - val_accuracy: 0.8966\n",
            "Epoch 95/100\n",
            "15/15 [==============================] - 0s 18ms/step - loss: 0.4523 - accuracy: 0.8734 - val_loss: 0.3711 - val_accuracy: 0.8793\n",
            "Epoch 96/100\n",
            "15/15 [==============================] - 0s 13ms/step - loss: 0.4446 - accuracy: 0.8646 - val_loss: 0.3692 - val_accuracy: 0.8793\n",
            "Epoch 97/100\n",
            "15/15 [==============================] - 0s 12ms/step - loss: 0.4692 - accuracy: 0.8777 - val_loss: 0.3674 - val_accuracy: 0.8966\n",
            "Epoch 98/100\n",
            "15/15 [==============================] - 0s 6ms/step - loss: 0.4687 - accuracy: 0.8472 - val_loss: 0.3646 - val_accuracy: 0.8793\n",
            "Epoch 99/100\n",
            "15/15 [==============================] - 0s 7ms/step - loss: 0.4439 - accuracy: 0.8996 - val_loss: 0.3620 - val_accuracy: 0.8793\n",
            "Epoch 100/100\n",
            "15/15 [==============================] - 0s 6ms/step - loss: 0.4323 - accuracy: 0.8908 - val_loss: 0.3623 - val_accuracy: 0.8793\n",
            "2/2 [==============================] - 0s 4ms/step\n",
            "Test Accuracy: 0.8793103448275862\n"
          ]
        },
        {
          "output_type": "display_data",
          "data": {
            "text/plain": [
              "<Figure size 1000x600 with 1 Axes>"
            ],
            "image/png": "[encoded data removed]"
          },
          "metadata": {}
        }
      ]
    },
    {
      "cell_type": "code",
      "execution_count": null,
      "metadata": {
        "colab": {
          "base_uri": "https://localhost:8080/"
        },
        "id": "ZcWNElMFKYNZ",
        "outputId": "293a3282-a2a9-45c5-b869-8c8112fc4369"
      },
      "outputs": [
        {
          "output_type": "stream",
          "name": "stdout",
          "text": [
            "   age  sex  cp  trestbps  restecg  thalach  exang  oldpeak  slope  ca  thal  \\\n",
            "0   52    1   0       125        1      168      0      1.0      2   2     3   \n",
            "1   53    1   0       140        0      155      1      3.1      0   0     3   \n",
            "2   70    1   0       145        1      125      1      2.6      0   0     3   \n",
            "3   61    1   0       148        1      161      0      0.0      2   1     3   \n",
            "4   62    0   0       138        1      106      0      1.9      1   3     2   \n",
            "\n",
            "   target  \n",
            "0       0  \n",
            "1       0  \n",
            "2       0  \n",
            "3       0  \n",
            "4       0  \n",
            "Missing values count per column:\n",
            "age         0\n",
            "sex         0\n",
            "cp          0\n",
            "trestbps    0\n",
            "restecg     0\n",
            "thalach     0\n",
            "exang       0\n",
            "oldpeak     0\n",
            "slope       0\n",
            "ca          0\n",
            "thal        0\n",
            "target      0\n",
            "dtype: int64\n"
          ]
        }
      ],
      "source": [
        "# @title **Dropping Chol & FBS**\n",
        "dfd = df.drop(columns=['chol','fbs'])\n",
        "print(dfd.head())\n",
        "\n",
        "# Check for missing values in the DataFrame\n",
        "missing_values = dfd.isnull()\n",
        "\n",
        "# Count the number of missing values in each column\n",
        "missing_values_count = missing_values.sum()\n",
        "\n",
        "# Print the number of missing values in each column\n",
        "print(\"Missing values count per column:\")\n",
        "print(missing_values_count)\n"
      ]
    },
    {
      "cell_type": "code",
      "execution_count": null,
      "metadata": {
        "colab": {
          "base_uri": "https://localhost:8080/"
        },
        "id": "j1CRqvAdKnHi",
        "outputId": "0d154497-e2d5-4c3d-dfa7-8879d1716cf1"
      },
      "outputs": [
        {
          "output_type": "stream",
          "name": "stdout",
          "text": [
            "KNN\n",
            "Accuracy: 0.66\n",
            "Classification Report:\n",
            "               precision    recall  f1-score   support\n",
            "\n",
            "           0       0.62      0.71      0.67        28\n",
            "           1       0.69      0.60      0.64        30\n",
            "\n",
            "    accuracy                           0.66        58\n",
            "   macro avg       0.66      0.66      0.65        58\n",
            "weighted avg       0.66      0.66      0.65        58\n",
            "\n",
            "Confusion Matrix:\n",
            "[[20  8]\n",
            " [12 18]]\n",
            "Cross-validation scores: [0.67241379 0.5862069  0.77192982 0.66666667 0.66666667]\n",
            "Mean cross-validation score: 0.6727767695099818\n"
          ]
        }
      ],
      "source": [
        "func_KNN(dfd)"
      ]
    },
    {
      "cell_type": "code",
      "execution_count": null,
      "metadata": {
        "colab": {
          "base_uri": "https://localhost:8080/"
        },
        "id": "o65C_7XeKtNX",
        "outputId": "b54bc47c-3fbd-4980-b49c-fd1adebd5ace"
      },
      "outputs": [
        {
          "output_type": "stream",
          "name": "stdout",
          "text": [
            "SVM\n",
            "Accuracy: 0.90\n",
            "Classification Report:\n",
            "              precision    recall  f1-score   support\n",
            "\n",
            "           0       0.96      0.82      0.88        28\n",
            "           1       0.85      0.97      0.91        30\n",
            "\n",
            "    accuracy                           0.90        58\n",
            "   macro avg       0.91      0.89      0.90        58\n",
            "weighted avg       0.90      0.90      0.90        58\n",
            "\n",
            "Confusion Matrix:\n",
            "[[23  5]\n",
            " [ 1 29]]\n",
            "Cross-validation scores: [0.87931034 0.84482759 0.9122807  0.73684211 0.78947368]\n",
            "Mean cross-validation score: 0.8325468844525105\n"
          ]
        }
      ],
      "source": [
        "func_SVM(dfd)"
      ]
    },
    {
      "cell_type": "code",
      "execution_count": null,
      "metadata": {
        "colab": {
          "base_uri": "https://localhost:8080/"
        },
        "id": "dH5ic3BWVkOB",
        "outputId": "ff92e53c-3493-490c-d0eb-383591655ba3"
      },
      "outputs": [
        {
          "output_type": "stream",
          "name": "stdout",
          "text": [
            "Random Forest\n",
            "Accuracy: 0.88\n",
            "Classification Report:\n",
            "              precision    recall  f1-score   support\n",
            "\n",
            "           0       0.89      0.86      0.87        28\n",
            "           1       0.87      0.90      0.89        30\n",
            "\n",
            "    accuracy                           0.88        58\n",
            "   macro avg       0.88      0.88      0.88        58\n",
            "weighted avg       0.88      0.88      0.88        58\n",
            "\n",
            "Confusion Matrix:\n",
            "[[24  4]\n",
            " [ 3 27]]\n",
            "Cross-validation scores: [0.86206897 0.84482759 0.85964912 0.78947368 0.80701754]\n",
            "Mean cross-validation score: 0.8326073805202661\n"
          ]
        }
      ],
      "source": [
        "func_Random_Forest(dfd)"
      ]
    },
    {
      "cell_type": "code",
      "execution_count": null,
      "metadata": {
        "colab": {
          "base_uri": "https://localhost:8080/"
        },
        "id": "0dqEz14eVmt0",
        "outputId": "12c2544d-ddd3-4520-bdb1-fe42c4704185"
      },
      "outputs": [
        {
          "output_type": "stream",
          "name": "stdout",
          "text": [
            "Decision Tree\n",
            "Accuracy: 0.79\n",
            "Classification Report:\n",
            "              precision    recall  f1-score   support\n",
            "\n",
            "           0       0.75      0.86      0.80        28\n",
            "           1       0.85      0.73      0.79        30\n",
            "\n",
            "    accuracy                           0.79        58\n",
            "   macro avg       0.80      0.80      0.79        58\n",
            "weighted avg       0.80      0.79      0.79        58\n",
            "\n",
            "Confusion Matrix:\n",
            "[[24  4]\n",
            " [ 8 22]]\n",
            "Cross-validation scores: [0.74137931 0.68965517 0.78947368 0.78947368 0.84210526]\n",
            "Mean cross-validation score: 0.7704174228675136\n"
          ]
        }
      ],
      "source": [
        "func_Decision_Tree(dfd)"
      ]
    },
    {
      "cell_type": "code",
      "execution_count": null,
      "metadata": {
        "colab": {
          "base_uri": "https://localhost:8080/"
        },
        "id": "dusO7zg2Vptg",
        "outputId": "52623f71-31b5-42b7-96b0-4c0bbf35ec38"
      },
      "outputs": [
        {
          "output_type": "stream",
          "name": "stdout",
          "text": [
            "Linear Regression\n",
            "Mean Squared Error (MSE): 0.0889536184121991\n",
            "Root Mean Squared Error (RMSE): 0.2982509319552901\n",
            "Mean Absolute Error (MAE): 0.2354865354456962\n",
            "R-squared (R2): 0.6437619376920979\n",
            "Cross-validation scores: [-0.15070994 -0.11342272 -0.09359745 -0.13349267 -0.16190768]\n",
            "Mean cross-validation score: -0.13062609228308858\n"
          ]
        }
      ],
      "source": [
        "func_Linear_Regression(dfd)"
      ]
    },
    {
      "cell_type": "code",
      "execution_count": null,
      "metadata": {
        "colab": {
          "base_uri": "https://localhost:8080/"
        },
        "id": "XjsxZIsIVs75",
        "outputId": "b78b75e5-fce1-4274-b9c3-226f3bbd3a17"
      },
      "outputs": [
        {
          "output_type": "stream",
          "name": "stdout",
          "text": [
            "Logistic Regression\n",
            "Mean Squared Error (MSE): 0.10344827586206896\n",
            "Root Mean Squared Error (RMSE): 0.32163376045133846\n",
            "Mean Absolute Error (MAE): 0.10344827586206896\n",
            "R-squared (R2): 0.5857142857142856\n",
            "Cross-validation scores: [0.86206897 0.84482759 0.9122807  0.77192982 0.8245614 ]\n",
            "Mean cross-validation score: 0.8431336963097399\n"
          ]
        }
      ],
      "source": [
        "func_Logistic_Regression(dfd)"
      ]
    },
    {
      "cell_type": "code",
      "execution_count": null,
      "metadata": {
        "colab": {
          "base_uri": "https://localhost:8080/"
        },
        "id": "MWVDkdwzVwxo",
        "outputId": "7fbda224-a393-44e9-9468-70a989bc9849"
      },
      "outputs": [
        {
          "output_type": "stream",
          "name": "stdout",
          "text": [
            "XGBoost\n",
            "Accuracy: 0.7931034482758621\n",
            "Classification Report:\n",
            "              precision    recall  f1-score   support\n",
            "\n",
            "           0       0.75      0.86      0.80        28\n",
            "           1       0.85      0.73      0.79        30\n",
            "\n",
            "    accuracy                           0.79        58\n",
            "   macro avg       0.80      0.80      0.79        58\n",
            "weighted avg       0.80      0.79      0.79        58\n",
            "\n",
            "Cross-validation scores: [0.86206897 0.86206897 0.87719298 0.71929825 0.75438596]\n",
            "Mean cross-validation score: 0.8150030248033877\n"
          ]
        }
      ],
      "source": [
        "func_XGBoost(dfd)"
      ]
    },
    {
      "cell_type": "code",
      "source": [
        "func_FNN(dfd)"
      ],
      "metadata": {
        "colab": {
          "base_uri": "https://localhost:8080/",
          "height": 1000
        },
        "id": "T21lvyiR-xX6",
        "outputId": "99dc627d-86db-42f0-86c3-ddf9f5bc2265"
      },
      "execution_count": null,
      "outputs": [
        {
          "output_type": "stream",
          "name": "stdout",
          "text": [
            "Epoch 1/100\n",
            "15/15 [==============================] - 1s 16ms/step - loss: 1.2053 - accuracy: 0.5109 - val_loss: 1.1475 - val_accuracy: 0.5690\n",
            "Epoch 2/100\n",
            "15/15 [==============================] - 0s 7ms/step - loss: 1.1567 - accuracy: 0.5677 - val_loss: 1.0965 - val_accuracy: 0.6897\n",
            "Epoch 3/100\n",
            "15/15 [==============================] - 0s 6ms/step - loss: 1.1130 - accuracy: 0.5415 - val_loss: 1.0531 - val_accuracy: 0.7931\n",
            "Epoch 4/100\n",
            "15/15 [==============================] - 0s 6ms/step - loss: 1.1012 - accuracy: 0.6026 - val_loss: 1.0246 - val_accuracy: 0.7931\n",
            "Epoch 5/100\n",
            "15/15 [==============================] - 0s 7ms/step - loss: 1.0530 - accuracy: 0.6201 - val_loss: 0.9964 - val_accuracy: 0.8276\n",
            "Epoch 6/100\n",
            "15/15 [==============================] - 0s 6ms/step - loss: 1.0262 - accuracy: 0.6507 - val_loss: 0.9687 - val_accuracy: 0.8793\n",
            "Epoch 7/100\n",
            "15/15 [==============================] - 0s 6ms/step - loss: 0.9835 - accuracy: 0.6943 - val_loss: 0.9429 - val_accuracy: 0.8793\n",
            "Epoch 8/100\n",
            "15/15 [==============================] - 0s 6ms/step - loss: 0.9631 - accuracy: 0.7031 - val_loss: 0.9155 - val_accuracy: 0.8621\n",
            "Epoch 9/100\n",
            "15/15 [==============================] - 0s 7ms/step - loss: 0.9381 - accuracy: 0.7293 - val_loss: 0.8828 - val_accuracy: 0.8793\n",
            "Epoch 10/100\n",
            "15/15 [==============================] - 0s 6ms/step - loss: 0.9273 - accuracy: 0.6900 - val_loss: 0.8537 - val_accuracy: 0.8966\n",
            "Epoch 11/100\n",
            "15/15 [==============================] - 0s 6ms/step - loss: 0.9232 - accuracy: 0.7293 - val_loss: 0.8278 - val_accuracy: 0.8966\n",
            "Epoch 12/100\n",
            "15/15 [==============================] - 0s 7ms/step - loss: 0.8651 - accuracy: 0.7729 - val_loss: 0.7973 - val_accuracy: 0.8793\n",
            "Epoch 13/100\n",
            "15/15 [==============================] - 0s 10ms/step - loss: 0.8568 - accuracy: 0.7031 - val_loss: 0.7724 - val_accuracy: 0.8966\n",
            "Epoch 14/100\n",
            "15/15 [==============================] - 0s 11ms/step - loss: 0.8485 - accuracy: 0.7162 - val_loss: 0.7483 - val_accuracy: 0.8966\n",
            "Epoch 15/100\n",
            "15/15 [==============================] - 0s 9ms/step - loss: 0.8099 - accuracy: 0.7817 - val_loss: 0.7241 - val_accuracy: 0.8793\n",
            "Epoch 16/100\n",
            "15/15 [==============================] - 0s 9ms/step - loss: 0.8027 - accuracy: 0.8035 - val_loss: 0.6974 - val_accuracy: 0.9138\n",
            "Epoch 17/100\n",
            "15/15 [==============================] - 0s 9ms/step - loss: 0.8000 - accuracy: 0.8122 - val_loss: 0.6761 - val_accuracy: 0.8966\n",
            "Epoch 18/100\n",
            "15/15 [==============================] - 0s 9ms/step - loss: 0.7820 - accuracy: 0.7686 - val_loss: 0.6534 - val_accuracy: 0.8793\n",
            "Epoch 19/100\n",
            "15/15 [==============================] - 0s 14ms/step - loss: 0.7544 - accuracy: 0.7686 - val_loss: 0.6361 - val_accuracy: 0.8966\n",
            "Epoch 20/100\n",
            "15/15 [==============================] - 0s 9ms/step - loss: 0.7430 - accuracy: 0.8035 - val_loss: 0.6194 - val_accuracy: 0.8966\n",
            "Epoch 21/100\n",
            "15/15 [==============================] - 0s 9ms/step - loss: 0.7372 - accuracy: 0.7860 - val_loss: 0.6058 - val_accuracy: 0.8966\n",
            "Epoch 22/100\n",
            "15/15 [==============================] - 0s 9ms/step - loss: 0.7523 - accuracy: 0.7991 - val_loss: 0.5916 - val_accuracy: 0.8966\n",
            "Epoch 23/100\n",
            "15/15 [==============================] - 0s 9ms/step - loss: 0.7295 - accuracy: 0.7904 - val_loss: 0.5824 - val_accuracy: 0.8966\n",
            "Epoch 24/100\n",
            "15/15 [==============================] - 0s 8ms/step - loss: 0.7082 - accuracy: 0.7991 - val_loss: 0.5729 - val_accuracy: 0.8966\n",
            "Epoch 25/100\n",
            "15/15 [==============================] - 0s 8ms/step - loss: 0.7071 - accuracy: 0.7686 - val_loss: 0.5618 - val_accuracy: 0.8966\n",
            "Epoch 26/100\n",
            "15/15 [==============================] - 0s 9ms/step - loss: 0.6999 - accuracy: 0.7904 - val_loss: 0.5496 - val_accuracy: 0.8966\n",
            "Epoch 27/100\n",
            "15/15 [==============================] - 0s 9ms/step - loss: 0.6216 - accuracy: 0.8079 - val_loss: 0.5350 - val_accuracy: 0.8966\n",
            "Epoch 28/100\n",
            "15/15 [==============================] - 0s 10ms/step - loss: 0.6649 - accuracy: 0.7991 - val_loss: 0.5220 - val_accuracy: 0.8966\n",
            "Epoch 29/100\n",
            "15/15 [==============================] - 0s 9ms/step - loss: 0.6182 - accuracy: 0.8384 - val_loss: 0.5137 - val_accuracy: 0.8966\n",
            "Epoch 30/100\n",
            "15/15 [==============================] - 0s 9ms/step - loss: 0.6145 - accuracy: 0.8210 - val_loss: 0.5038 - val_accuracy: 0.8966\n",
            "Epoch 31/100\n",
            "15/15 [==============================] - 0s 10ms/step - loss: 0.6553 - accuracy: 0.8079 - val_loss: 0.4956 - val_accuracy: 0.8966\n",
            "Epoch 32/100\n",
            "15/15 [==============================] - 0s 9ms/step - loss: 0.6114 - accuracy: 0.8428 - val_loss: 0.4885 - val_accuracy: 0.8966\n",
            "Epoch 33/100\n",
            "15/15 [==============================] - 0s 10ms/step - loss: 0.6366 - accuracy: 0.8122 - val_loss: 0.4818 - val_accuracy: 0.8966\n",
            "Epoch 34/100\n",
            "15/15 [==============================] - 0s 11ms/step - loss: 0.6453 - accuracy: 0.7817 - val_loss: 0.4774 - val_accuracy: 0.8966\n",
            "Epoch 35/100\n",
            "15/15 [==============================] - 0s 9ms/step - loss: 0.6171 - accuracy: 0.8210 - val_loss: 0.4755 - val_accuracy: 0.8966\n",
            "Epoch 36/100\n",
            "15/15 [==============================] - 0s 9ms/step - loss: 0.6136 - accuracy: 0.8035 - val_loss: 0.4710 - val_accuracy: 0.8966\n",
            "Epoch 37/100\n",
            "15/15 [==============================] - 0s 9ms/step - loss: 0.5962 - accuracy: 0.8122 - val_loss: 0.4660 - val_accuracy: 0.8966\n",
            "Epoch 38/100\n",
            "15/15 [==============================] - 0s 9ms/step - loss: 0.6151 - accuracy: 0.8210 - val_loss: 0.4634 - val_accuracy: 0.8966\n",
            "Epoch 39/100\n",
            "15/15 [==============================] - 0s 10ms/step - loss: 0.5868 - accuracy: 0.8341 - val_loss: 0.4578 - val_accuracy: 0.8966\n",
            "Epoch 40/100\n",
            "15/15 [==============================] - 0s 7ms/step - loss: 0.5695 - accuracy: 0.8166 - val_loss: 0.4538 - val_accuracy: 0.8966\n",
            "Epoch 41/100\n",
            "15/15 [==============================] - 0s 6ms/step - loss: 0.5748 - accuracy: 0.8515 - val_loss: 0.4482 - val_accuracy: 0.8966\n",
            "Epoch 42/100\n",
            "15/15 [==============================] - 0s 7ms/step - loss: 0.5590 - accuracy: 0.8341 - val_loss: 0.4426 - val_accuracy: 0.8966\n",
            "Epoch 43/100\n",
            "15/15 [==============================] - 0s 7ms/step - loss: 0.5797 - accuracy: 0.8384 - val_loss: 0.4404 - val_accuracy: 0.8966\n",
            "Epoch 44/100\n",
            "15/15 [==============================] - 0s 7ms/step - loss: 0.5463 - accuracy: 0.8690 - val_loss: 0.4339 - val_accuracy: 0.8966\n",
            "Epoch 45/100\n",
            "15/15 [==============================] - 0s 6ms/step - loss: 0.5443 - accuracy: 0.8646 - val_loss: 0.4296 - val_accuracy: 0.8966\n",
            "Epoch 46/100\n",
            "15/15 [==============================] - 0s 6ms/step - loss: 0.5564 - accuracy: 0.8253 - val_loss: 0.4254 - val_accuracy: 0.8966\n",
            "Epoch 47/100\n",
            "15/15 [==============================] - 0s 6ms/step - loss: 0.5377 - accuracy: 0.8253 - val_loss: 0.4225 - val_accuracy: 0.8966\n",
            "Epoch 48/100\n",
            "15/15 [==============================] - 0s 7ms/step - loss: 0.5497 - accuracy: 0.8341 - val_loss: 0.4192 - val_accuracy: 0.8966\n",
            "Epoch 49/100\n",
            "15/15 [==============================] - 0s 6ms/step - loss: 0.5417 - accuracy: 0.8646 - val_loss: 0.4154 - val_accuracy: 0.8966\n",
            "Epoch 50/100\n",
            "15/15 [==============================] - 0s 8ms/step - loss: 0.5651 - accuracy: 0.8428 - val_loss: 0.4147 - val_accuracy: 0.8966\n",
            "Epoch 51/100\n",
            "15/15 [==============================] - 0s 7ms/step - loss: 0.5281 - accuracy: 0.8603 - val_loss: 0.4108 - val_accuracy: 0.8966\n",
            "Epoch 52/100\n",
            "15/15 [==============================] - 0s 7ms/step - loss: 0.4955 - accuracy: 0.8690 - val_loss: 0.4061 - val_accuracy: 0.8966\n",
            "Epoch 53/100\n",
            "15/15 [==============================] - 0s 6ms/step - loss: 0.5406 - accuracy: 0.8559 - val_loss: 0.4045 - val_accuracy: 0.8966\n",
            "Epoch 54/100\n",
            "15/15 [==============================] - 0s 7ms/step - loss: 0.5030 - accuracy: 0.8559 - val_loss: 0.4037 - val_accuracy: 0.8793\n",
            "Epoch 55/100\n",
            "15/15 [==============================] - 0s 6ms/step - loss: 0.5310 - accuracy: 0.8603 - val_loss: 0.4011 - val_accuracy: 0.8966\n",
            "Epoch 56/100\n",
            "15/15 [==============================] - 0s 6ms/step - loss: 0.5105 - accuracy: 0.8472 - val_loss: 0.3996 - val_accuracy: 0.8966\n",
            "Epoch 57/100\n",
            "15/15 [==============================] - 0s 6ms/step - loss: 0.4848 - accuracy: 0.8690 - val_loss: 0.3984 - val_accuracy: 0.8966\n",
            "Epoch 58/100\n",
            "15/15 [==============================] - 0s 5ms/step - loss: 0.5227 - accuracy: 0.8690 - val_loss: 0.3993 - val_accuracy: 0.8793\n",
            "Epoch 59/100\n",
            "15/15 [==============================] - 0s 6ms/step - loss: 0.5246 - accuracy: 0.8559 - val_loss: 0.3977 - val_accuracy: 0.8793\n",
            "Epoch 60/100\n",
            "15/15 [==============================] - 0s 8ms/step - loss: 0.5025 - accuracy: 0.8559 - val_loss: 0.3956 - val_accuracy: 0.8793\n",
            "Epoch 61/100\n",
            "15/15 [==============================] - 0s 7ms/step - loss: 0.5069 - accuracy: 0.8472 - val_loss: 0.3946 - val_accuracy: 0.8793\n",
            "Epoch 62/100\n",
            "15/15 [==============================] - 0s 7ms/step - loss: 0.5095 - accuracy: 0.8559 - val_loss: 0.3941 - val_accuracy: 0.8793\n",
            "Epoch 63/100\n",
            "15/15 [==============================] - 0s 6ms/step - loss: 0.4632 - accuracy: 0.8428 - val_loss: 0.3912 - val_accuracy: 0.8793\n",
            "Epoch 64/100\n",
            "15/15 [==============================] - 0s 6ms/step - loss: 0.4666 - accuracy: 0.8821 - val_loss: 0.3884 - val_accuracy: 0.8793\n",
            "Epoch 65/100\n",
            "15/15 [==============================] - 0s 6ms/step - loss: 0.5133 - accuracy: 0.8690 - val_loss: 0.3861 - val_accuracy: 0.8793\n",
            "Epoch 66/100\n",
            "15/15 [==============================] - 0s 6ms/step - loss: 0.5108 - accuracy: 0.8515 - val_loss: 0.3856 - val_accuracy: 0.8793\n",
            "Epoch 67/100\n",
            "15/15 [==============================] - 0s 7ms/step - loss: 0.4706 - accuracy: 0.8777 - val_loss: 0.3853 - val_accuracy: 0.8793\n",
            "Epoch 68/100\n",
            "15/15 [==============================] - 0s 7ms/step - loss: 0.4772 - accuracy: 0.8603 - val_loss: 0.3840 - val_accuracy: 0.8793\n",
            "Epoch 69/100\n",
            "15/15 [==============================] - 0s 8ms/step - loss: 0.4987 - accuracy: 0.8559 - val_loss: 0.3819 - val_accuracy: 0.8793\n",
            "Epoch 70/100\n",
            "15/15 [==============================] - 0s 7ms/step - loss: 0.4602 - accuracy: 0.8603 - val_loss: 0.3805 - val_accuracy: 0.8793\n",
            "Epoch 71/100\n",
            "15/15 [==============================] - 0s 6ms/step - loss: 0.4636 - accuracy: 0.8777 - val_loss: 0.3792 - val_accuracy: 0.8793\n",
            "Epoch 72/100\n",
            "15/15 [==============================] - 0s 7ms/step - loss: 0.4375 - accuracy: 0.8690 - val_loss: 0.3772 - val_accuracy: 0.8793\n",
            "Epoch 73/100\n",
            "15/15 [==============================] - 0s 7ms/step - loss: 0.5068 - accuracy: 0.8690 - val_loss: 0.3775 - val_accuracy: 0.8793\n",
            "Epoch 74/100\n",
            "15/15 [==============================] - 0s 6ms/step - loss: 0.4442 - accuracy: 0.8821 - val_loss: 0.3801 - val_accuracy: 0.8793\n",
            "Epoch 75/100\n",
            "15/15 [==============================] - 0s 6ms/step - loss: 0.4529 - accuracy: 0.8821 - val_loss: 0.3801 - val_accuracy: 0.8793\n",
            "Epoch 76/100\n",
            "15/15 [==============================] - 0s 7ms/step - loss: 0.4434 - accuracy: 0.8821 - val_loss: 0.3797 - val_accuracy: 0.8793\n",
            "Epoch 77/100\n",
            "15/15 [==============================] - 0s 6ms/step - loss: 0.4614 - accuracy: 0.8646 - val_loss: 0.3792 - val_accuracy: 0.8793\n",
            "Epoch 78/100\n",
            "15/15 [==============================] - 0s 6ms/step - loss: 0.4666 - accuracy: 0.8559 - val_loss: 0.3803 - val_accuracy: 0.8793\n",
            "Epoch 79/100\n",
            "15/15 [==============================] - 0s 8ms/step - loss: 0.4752 - accuracy: 0.8559 - val_loss: 0.3810 - val_accuracy: 0.8793\n",
            "Epoch 80/100\n",
            "15/15 [==============================] - 0s 8ms/step - loss: 0.4498 - accuracy: 0.8865 - val_loss: 0.3801 - val_accuracy: 0.8793\n",
            "Epoch 81/100\n",
            "15/15 [==============================] - 0s 7ms/step - loss: 0.4587 - accuracy: 0.8559 - val_loss: 0.3775 - val_accuracy: 0.8793\n",
            "Epoch 82/100\n",
            "15/15 [==============================] - 0s 8ms/step - loss: 0.4534 - accuracy: 0.8865 - val_loss: 0.3753 - val_accuracy: 0.8793\n",
            "Epoch 83/100\n",
            "15/15 [==============================] - 0s 6ms/step - loss: 0.4451 - accuracy: 0.8690 - val_loss: 0.3745 - val_accuracy: 0.8793\n",
            "Epoch 84/100\n",
            "15/15 [==============================] - 0s 6ms/step - loss: 0.4448 - accuracy: 0.8821 - val_loss: 0.3729 - val_accuracy: 0.8793\n",
            "Epoch 85/100\n",
            "15/15 [==============================] - 0s 6ms/step - loss: 0.4673 - accuracy: 0.8908 - val_loss: 0.3715 - val_accuracy: 0.8793\n",
            "Epoch 86/100\n",
            "15/15 [==============================] - 0s 7ms/step - loss: 0.4484 - accuracy: 0.8646 - val_loss: 0.3700 - val_accuracy: 0.8793\n",
            "Epoch 87/100\n",
            "15/15 [==============================] - 0s 7ms/step - loss: 0.4306 - accuracy: 0.8734 - val_loss: 0.3706 - val_accuracy: 0.8793\n",
            "Epoch 88/100\n",
            "15/15 [==============================] - 0s 8ms/step - loss: 0.4563 - accuracy: 0.8821 - val_loss: 0.3699 - val_accuracy: 0.8793\n",
            "Epoch 89/100\n",
            "15/15 [==============================] - 0s 6ms/step - loss: 0.4451 - accuracy: 0.8821 - val_loss: 0.3701 - val_accuracy: 0.8793\n",
            "Epoch 90/100\n",
            "15/15 [==============================] - 0s 7ms/step - loss: 0.4475 - accuracy: 0.8821 - val_loss: 0.3687 - val_accuracy: 0.8793\n",
            "Epoch 91/100\n",
            "15/15 [==============================] - 0s 5ms/step - loss: 0.4569 - accuracy: 0.8690 - val_loss: 0.3707 - val_accuracy: 0.8793\n",
            "Epoch 92/100\n",
            "15/15 [==============================] - 0s 7ms/step - loss: 0.4234 - accuracy: 0.8908 - val_loss: 0.3695 - val_accuracy: 0.8793\n",
            "Epoch 93/100\n",
            "15/15 [==============================] - 0s 6ms/step - loss: 0.4371 - accuracy: 0.8690 - val_loss: 0.3674 - val_accuracy: 0.8966\n",
            "Epoch 94/100\n",
            "15/15 [==============================] - 0s 6ms/step - loss: 0.4496 - accuracy: 0.8559 - val_loss: 0.3655 - val_accuracy: 0.8966\n",
            "Epoch 95/100\n",
            "15/15 [==============================] - 0s 7ms/step - loss: 0.4369 - accuracy: 0.8865 - val_loss: 0.3655 - val_accuracy: 0.8793\n",
            "Epoch 96/100\n",
            "15/15 [==============================] - 0s 7ms/step - loss: 0.4502 - accuracy: 0.8734 - val_loss: 0.3646 - val_accuracy: 0.8793\n",
            "Epoch 97/100\n",
            "15/15 [==============================] - 0s 5ms/step - loss: 0.4777 - accuracy: 0.8646 - val_loss: 0.3652 - val_accuracy: 0.8793\n",
            "Epoch 98/100\n",
            "15/15 [==============================] - 0s 8ms/step - loss: 0.4512 - accuracy: 0.8777 - val_loss: 0.3650 - val_accuracy: 0.8793\n",
            "Epoch 99/100\n",
            "15/15 [==============================] - 0s 6ms/step - loss: 0.4451 - accuracy: 0.8734 - val_loss: 0.3651 - val_accuracy: 0.8793\n",
            "Epoch 100/100\n",
            "15/15 [==============================] - 0s 6ms/step - loss: 0.4347 - accuracy: 0.8908 - val_loss: 0.3654 - val_accuracy: 0.8793\n",
            "2/2 [==============================] - 0s 3ms/step\n",
            "Test Accuracy: 0.8793103448275862\n"
          ]
        },
        {
          "output_type": "display_data",
          "data": {
            "text/plain": [
              "<Figure size 1000x600 with 1 Axes>"
            ],
            "image/png": "[encoded data removed]"
          },
          "metadata": {}
        }
      ]
    }
  ],
  "metadata": {
    "colab": {
      "provenance": [],
      "gpuType": "T4"
    },
    "kernelspec": {
      "display_name": "Python 3",
      "name": "python3"
    },
    "language_info": {
      "name": "python"
    },
    "accelerator": "GPU"
  },
  "nbformat": 4,
  "nbformat_minor": 0
}